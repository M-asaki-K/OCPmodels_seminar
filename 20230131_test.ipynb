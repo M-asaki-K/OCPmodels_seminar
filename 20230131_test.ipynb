{
 "cells": [
  {
   "cell_type": "code",
   "execution_count": null,
   "id": "d004f620",
   "metadata": {},
   "outputs": [],
   "source": [
    "# MIT License\n",
    "#\n",
    "#@title Copyright (c) 2021 CCAI Community Authors { display-mode: \"form\" }\n",
    "#\n",
    "# Permission is hereby granted, free of charge, to any person obtaining a\n",
    "# copy of this software and associated documentation files (the \"Software\"),\n",
    "# to deal in the Software without restriction, including without limitation\n",
    "# the rights to use, copy, modify, merge, publish, distribute, sublicense,\n",
    "# and/or sell copies of the Software, and to permit persons to whom the\n",
    "# Software is furnished to do so, subject to the following conditions:\n",
    "#\n",
    "# The above copyright notice and this permission notice shall be included in\n",
    "# all copies or substantial portions of the Software.\n",
    "#\n",
    "# THE SOFTWARE IS PROVIDED \"AS IS\", WITHOUT WARRANTY OF ANY KIND, EXPRESS OR\n",
    "# IMPLIED, INCLUDING BUT NOT LIMITED TO THE WARRANTIES OF MERCHANTABILITY,\n",
    "# FITNESS FOR A PARTICULAR PURPOSE AND NONINFRINGEMENT. IN NO EVENT SHALL\n",
    "# THE AUTHORS OR COPYRIGHT HOLDERS BE LIABLE FOR ANY CLAIM, DAMAGES OR OTHER\n",
    "# LIABILITY, WHETHER IN AN ACTION OF CONTRACT, TORT OR OTHERWISE, ARISING\n",
    "# FROM, OUT OF OR IN CONNECTION WITH THE SOFTWARE OR THE USE OR OTHER\n",
    "# DEALINGS IN THE SOFTWARE."
   ]
  },
  {
   "cell_type": "markdown",
   "id": "410c317c",
   "metadata": {},
   "source": [
    "## 初めに\n",
    "ASE×NNPの威力を体験していただくため、このnotebookは以下の処理を行います。\n",
    "1. Materials Projectから既知の結晶構造を入手する\n",
    "2. 入手した結晶構造に対して、任意表面を切り出す\n",
    "3. 所望の組成比となるように調整し、表面構造のエネルギーを測定する\n",
    "4. 上記の表面における分子（例としてCH4）の吸着エネルギーを計算する\n",
    "\n",
    "当notebookは以下の公知情報を参考に作成されたものです。\n",
    "https://docs.matlantis.com/atomistic-simulation-tutorial/ja/index.html"
   ]
  },
  {
   "cell_type": "markdown",
   "id": "17d48338",
   "metadata": {},
   "source": [
    "## 0. 学習済みモデル（力場）のダウンロード\n",
    "\n",
    "学習済みのモデルを右記リンクからダウンロードします。OC20+OC22データセット、すなわち金属および金属酸化物に対応した力場を使用します。[here](https://github.com/Open-Catalyst-Project/ocp/blob/master/MODELS.md)\n",
    "\n",
    "今回はリンク先から該当ファイルを直接ダウンロードし、計算環境のフォルダに格納しました。また、計算環境はGPUを前提としました（OCPCalculatorの引数におけるcpu = False）"
   ]
  },
  {
   "cell_type": "code",
   "execution_count": null,
   "id": "5a57d8c0",
   "metadata": {},
   "outputs": [],
   "source": [
    "from ocpmodels.common.relaxation.ase_utils import OCPCalculator\n",
    "import ase.io\n",
    "from ase.optimize import BFGS, LBFGS, FIRE\n",
    "from ase.build import add_adsorbate, molecule, bulk\n",
    "import os\n",
    "from ase.constraints import FixAtoms\n",
    "import numpy as np\n",
    "import pandas as pd\n",
    "import random\n",
    "from ase.build import molecule, bulk\n",
    "from ase.build import bcc100, bcc110, bcc111, fcc111, fcc100, fcc110, fcc211, hcp0001, hcp10m10, diamond100, diamond111\n",
    "from ase.visualize import view\n",
    "from ase.data import atomic_numbers\n",
    "import collections\n",
    "from ase.io.trajectory import Trajectory\n",
    "from ase.io import extxyz\n",
    "from pymatgen.io.cif import CifWriter\n",
    "import ase\n",
    "from ase import Atoms, units\n",
    "from ase.units import Bohr,Rydberg,kJ,kB,fs,Hartree,mol,kcal\n",
    "from ase.io import read, write\n",
    "from ase.build import surface, molecule, add_adsorbate\n",
    "from ase.constraints import FixAtoms, FixedPlane, FixBondLength, ExpCellFilter\n",
    "from ase.neb import NEB\n",
    "from ase.vibrations import Vibrations\n",
    "from ase.thermochemistry import IdealGasThermo\n",
    "from ase.visualize import view\n",
    "from ase.build.rotate import minimize_rotation_and_translation\n",
    "from ase.optimize import BFGS, LBFGS, FIRE\n",
    "from ase.md import MDLogger\n",
    "from ase.io import read, write, Trajectory\n",
    "from ase.build import sort\n",
    "from ase.visualize import view\n",
    "from ase.visualize.plot import plot_atoms\n",
    "import matplotlib.pyplot as plt\n",
    "from pymatgen.ext.matproj import MPRester\n",
    "import plotly.express as px\n",
    "\n",
    "\n",
    "#モデルの置き場所（何かうまくいかなかったので絶対パスで指定）\n",
    "checkpoint_path = \"C:/Users/uni21/ocp/gnoc_oc22_oc20_all_s2ef.pt\"\n",
    "config_yml_path = r\"C:\\Users\\uni21\\ocp\\configs\\oc22\\s2ef\\gemnet-oc\\gemnet_oc_oc20_oc22.yml\"\n",
    "\n",
    "#Define the calculator\n",
    "calc = OCPCalculator(config_yml=config_yml_path, checkpoint=checkpoint_path, cpu = False)"
   ]
  },
  {
   "cell_type": "code",
   "execution_count": null,
   "id": "68687b27",
   "metadata": {},
   "outputs": [],
   "source": [
    "df_catalyst_key = pd.DataFrame(pd.read_csv(\"20221229_ocm_catalyst_mp_key.csv\"))"
   ]
  },
  {
   "cell_type": "code",
   "execution_count": null,
   "id": "6346cad8",
   "metadata": {
    "scrolled": true
   },
   "outputs": [],
   "source": [
    "df_catalyst_key = df_catalyst_key.loc[df_catalyst_key['Support '] == 'SiO2']\n",
    "df_catalyst_key_unique = df_catalyst_key.loc[df_catalyst_key['M2'] == 'Na']"
   ]
  },
  {
   "cell_type": "code",
   "execution_count": null,
   "id": "a8bf59e3",
   "metadata": {},
   "outputs": [],
   "source": [
    "df_catalyst_key_unique"
   ]
  },
  {
   "cell_type": "code",
   "execution_count": null,
   "id": "d4e95899",
   "metadata": {},
   "outputs": [],
   "source": [
    "def make_crystal_cif(ids):\n",
    "    MY_API_KEY=\"WBBfnnIT4C97428wTRakQvRyXNBq2pj5\"\n",
    "\n",
    "    #from pymatgen import MPRester\n",
    "    with MPRester(MY_API_KEY) as mpr:\n",
    "        docs = mpr.materials.search(material_ids=[\"mp-\" + str(ids)])\n",
    "        #入手した結晶構造の確認\n",
    "        example_doc = docs[0]\n",
    "        structure = example_doc.structure\n",
    "        #結晶構造をcifファイルに格納\n",
    "        w = CifWriter(structure)\n",
    "        w.write_file('mystructure.cif')"
   ]
  },
  {
   "cell_type": "code",
   "execution_count": null,
   "id": "5a4cd0bf",
   "metadata": {},
   "outputs": [],
   "source": [
    "def read_cif_and_set_positions():\n",
    "    bulk = read(\"mystructure.cif\")\n",
    "#    print(\"Number of atoms =\", len(bulk))\n",
    "#    print(\"Initial lattice constant =\", bulk.cell.cellpar())\n",
    "    tags = np.ones(len(bulk))\n",
    "    bulk.set_tags(tags)\n",
    "    #繰り返し構造の設定\n",
    "    bulk = bulk.repeat([2, 2, 2])\n",
    "    bulk = sort(bulk)\n",
    "    # Shift positions a bit to prevent surface to be cut at wrong place when `makesurface` is called\n",
    "    bulk.positions += [0.01, 0, 0]\n",
    "    return bulk"
   ]
  },
  {
   "cell_type": "code",
   "execution_count": null,
   "id": "04194094",
   "metadata": {},
   "outputs": [],
   "source": [
    "bulk_test = read_cif_and_set_positions()\n",
    "#view(bulk_test)"
   ]
  },
  {
   "cell_type": "code",
   "execution_count": null,
   "id": "7a183a5a",
   "metadata": {},
   "outputs": [],
   "source": [
    "fcc_energies = []\n",
    "for i in np.linspace(0.9, 1.1):\n",
    "    bulk_test = read_cif_and_set_positions()\n",
    "#    bulk_test = modify_compositions(insert_num, base_num, insert_ratio, base_ratio, bulk_test)\n",
    "    ref = bulk_test.cell\n",
    "    bulk_test.cell = i * ref\n",
    "    print(bulk_test.cell)\n",
    "    bulk_test.set_tags(np.ones(len(bulk_test)))\n",
    "\n",
    "    bulk_test.calc = calc\n",
    "\n",
    "    e = (bulk_test.get_potential_energy())\n",
    "    fcc_energies.append(e)\n",
    "    del bulk_test, ref\n",
    "\n",
    "    \n"
   ]
  },
  {
   "cell_type": "code",
   "execution_count": null,
   "id": "60a3b3fc",
   "metadata": {},
   "outputs": [],
   "source": [
    "plt.plot(np.linspace(0.9, 1.1), fcc_energies)"
   ]
  },
  {
   "cell_type": "code",
   "execution_count": null,
   "id": "11d40916",
   "metadata": {},
   "outputs": [],
   "source": [
    "def bulk_set_opt(insert_num, base_num, insert_ratio, base_ratio):\n",
    "    fcc_energies = []\n",
    "    for i in np.linspace(0.9, 1.1):\n",
    "        bulk_test = read_cif_and_set_positions()\n",
    "        bulk_test = modify_compositions(insert_num, base_num, insert_ratio, base_ratio, bulk_test)\n",
    "        ref = bulk_test.cell\n",
    "        bulk_test.cell = i * ref\n",
    "        print(bulk_test.cell)\n",
    "        bulk_test.set_tags(np.ones(len(bulk_test)))\n",
    "\n",
    "        bulk_test.calc = calc\n",
    "\n",
    "        e = (bulk_test.get_potential_energy())\n",
    "        fcc_energies.append(e)\n",
    "        del bulk_test, ref\n",
    "        \n",
    "    bulk_energy = pd.DataFrame([fcc_energies, np.linspace(0.9, 1.1)])\n",
    "    opt_i = get_column_with_min_value_in_row_zero(bulk_energy)[1]\n",
    "\n",
    "    bulk_test = read_cif_and_set_positions()\n",
    "    bulk_test = modify_compositions(insert_num, base_num, insert_ratio, base_ratio, bulk_test)\n",
    "    ref = bulk_test.cell\n",
    "    bulk_test.cell = opt_i * ref\n",
    "    print(bulk_test.cell)\n",
    "    return bulk_test\n"
   ]
  },
  {
   "cell_type": "code",
   "execution_count": null,
   "id": "fbd701b6",
   "metadata": {},
   "outputs": [],
   "source": [
    "#bulk_energy = pd.DataFrame([fcc_energies, np.linspace(0.9, 1.1)])\n",
    "#min(bulk_energy.iloc[0,:])\n",
    "#plt.plot(np.linspace(0.9, 1.1), fcc_energies)"
   ]
  },
  {
   "cell_type": "code",
   "execution_count": null,
   "id": "bdf2a4f2",
   "metadata": {},
   "outputs": [],
   "source": [
    "def get_column_with_min_value_in_row_zero(df):\n",
    "    # 0行目の値が最小となる列のインデックスを取得\n",
    "    min_col_index = df.iloc[0].idxmin()\n",
    "\n",
    "    # 対象の列を抽出\n",
    "    min_col = df[min_col_index]\n",
    "\n",
    "    return min_col"
   ]
  },
  {
   "cell_type": "code",
   "execution_count": null,
   "id": "4ace333b",
   "metadata": {},
   "outputs": [],
   "source": [
    "#get_column_with_min_value_in_row_zero(bulk_energy)[1]"
   ]
  },
  {
   "cell_type": "code",
   "execution_count": null,
   "id": "e48528a3",
   "metadata": {},
   "outputs": [],
   "source": [
    "def makesurface(\n",
    "    atoms: Atoms, miller_indices=(1, 1, 1), layers=3, rep=[4, 4, 1]\n",
    ") -> Atoms:\n",
    "    s1 = surface(atoms, miller_indices, layers)\n",
    "    s1.center(vacuum=10.0, axis=2)\n",
    "    s1 = s1.repeat(rep)\n",
    "    s1.set_positions(s1.get_positions() - [0, 0, min(s1.get_positions()[:, 2])])\n",
    "    s1.pbc = True\n",
    "    return s1"
   ]
  },
  {
   "cell_type": "code",
   "execution_count": null,
   "id": "14d08eaa",
   "metadata": {},
   "outputs": [],
   "source": [
    "def modify_compositions(insert_num, base_num, insert_ratio, base_ratio, slab):\n",
    "    #結晶構造の元素番号を確認する\n",
    "    numbers = slab.get_atomic_numbers()\n",
    "    #base_atomの個数\n",
    "    base_count = np.count_nonzero(numbers == base_num)\n",
    "    #base_atomのindex\n",
    "    indices_base_count = np.where(numbers == base_num)[0]\n",
    "    #base_atomのindexを、任意比率でinsert_atomに変更\n",
    "    np.random.seed(1)\n",
    "    replace_index = np.random.choice(indices_base_count, size= round(base_count*insert_ratio / (insert_ratio + base_ratio)), replace=False)\n",
    "    print(f\"Replace {replace_index} atom\")\n",
    "    numbers[replace_index] = insert_num\n",
    "    slab.set_atomic_numbers(numbers)\n",
    "    return slab"
   ]
  },
  {
   "cell_type": "code",
   "execution_count": null,
   "id": "c153aaa1",
   "metadata": {},
   "outputs": [],
   "source": [
    "adsorption_structures = pd.DataFrame(np.empty((1, 6)), columns = [\"composition\", \"opt_energy\", \"mol\", \"onto_0\", \"onto_1\", \"ads_energy\"])"
   ]
  },
  {
   "cell_type": "code",
   "execution_count": null,
   "id": "2620f3b6",
   "metadata": {},
   "outputs": [],
   "source": [
    "df_catalyst_key_unique[\"Name\"][df_catalyst_key_unique.index[1]].replace(\"/\",\"_\")"
   ]
  },
  {
   "cell_type": "code",
   "execution_count": null,
   "id": "8e015694",
   "metadata": {},
   "outputs": [],
   "source": [
    "methane = molecule(\"CH4\")\n",
    "methane.rotate(30, v = \"x\")\n",
    "methane.rotate(30, v = \"y\")\n",
    "#view(methane)"
   ]
  },
  {
   "cell_type": "code",
   "execution_count": null,
   "id": "c689d20b",
   "metadata": {},
   "outputs": [],
   "source": [
    "methane.positions"
   ]
  },
  {
   "cell_type": "code",
   "execution_count": null,
   "id": "4b20121b",
   "metadata": {},
   "outputs": [],
   "source": [
    "methanol = molecule(\"CH3OH\")\n",
    "methanol.rotate(90, v = \"x\")\n",
    "methanol.positions[1] = [0, 0, -1.5]\n",
    "methanol.positions[3] = [0, 0, -0.47]\n",
    "#view(methanol)\n",
    "\n",
    "#methanol.rotate(60, v = \"y\")\n",
    "#O = methanol.positions[1]\n",
    "#H = methanol.positions[3]\n",
    "#print(O)\n",
    "#print(H)\n",
    "\n",
    "#methanol_rev = methanol\n",
    "#methanol_rev.positions[1] = [-4.68724263e-01, -6.41995367e-17, -1.28506176e+00]\n",
    "#methanol_rev.positions[3] = [-6.80489936e-01, -4.64478527e-17, -2.38458857e-01]\n",
    "#view(methanol_rev)"
   ]
  },
  {
   "cell_type": "code",
   "execution_count": null,
   "id": "82777249",
   "metadata": {},
   "outputs": [],
   "source": [
    "oxygen = molecule(\"O\")\n",
    "methoxy = molecule(\"CH3O\")\n",
    "methan_ol = molecule(\"CH3OH\")"
   ]
  },
  {
   "cell_type": "code",
   "execution_count": null,
   "id": "ce235a71",
   "metadata": {},
   "outputs": [],
   "source": [
    "molec = [methane, methanol, oxygen, methoxy]\n",
    "molec"
   ]
  },
  {
   "cell_type": "code",
   "execution_count": null,
   "id": "838d79cc",
   "metadata": {},
   "outputs": [],
   "source": [
    "for index in range(len(df_catalyst_key_unique)):\n",
    "    ids = df_catalyst_key_unique[\"Material ID\"][df_catalyst_key_unique.index[index]]\n",
    "    insert_num = df_catalyst_key_unique[\"M1_atom_number\"][df_catalyst_key_unique.index[index]]\n",
    "    base_num = df_catalyst_key_unique[\"M2_atom_number\"][df_catalyst_key_unique.index[index]]\n",
    "    insert_ratio = df_catalyst_key_unique[\"M1_mol%\"][df_catalyst_key_unique.index[index]]\n",
    "    base_ratio = df_catalyst_key_unique[\"M2_mol%\"][df_catalyst_key_unique.index[index]]\n",
    "    name = df_catalyst_key_unique[\"Name\"][df_catalyst_key_unique.index[index]].replace(\"/\",\"_\")\n",
    "    \n",
    "    \n",
    "    make_crystal_cif(ids)\n",
    "    bulk = bulk_set_opt(insert_num, base_num, insert_ratio, base_ratio)\n",
    "    \n",
    "    slab = makesurface(bulk, miller_indices=(1, 1, 1), layers=2, rep=[1, 1, 1])\n",
    "    slab = sort(slab)\n",
    "    # adjust `positions` before `wrap`\n",
    "    slab.positions += [1, 1, 0]\n",
    "    slab.wrap()\n",
    "    \n",
    "    # Check z_position of atoms\n",
    "    atoms = slab\n",
    "    df = pd.DataFrame({\n",
    "        \"x\": atoms.positions[:, 0],\n",
    "        \"y\": atoms.positions[:, 1],\n",
    "        \"z\": atoms.positions[:, 2],\n",
    "        \"symbol\": atoms.symbols,\n",
    "    })\n",
    "    #display(df)\n",
    "\n",
    "    coord = \"z\"\n",
    "    df_sorted = df.sort_values(coord).reset_index().rename({\"index\": \"atom_index\"}, axis=1)\n",
    "    z_threshold = df_sorted[\"z\"][len(df_sorted) - 4]\n",
    "#    z_threshold = 20\n",
    "    \n",
    "#    slab = modify_compositions(insert_num, base_num, insert_ratio, base_ratio, slab)\n",
    "    \n",
    "    # Fix atoms under z=10 A（subsurfaceの原子は固定、この束縛は任意に緩和可能だが緩和するほど計算は重くなる）\n",
    "    c = FixAtoms(indices=[atom.index for atom in slab if atom.position[2] <= z_threshold])\n",
    "    slab.set_constraint(c)\n",
    "    slab.center(vacuum=10.0, axis=2)\n",
    "    slab.set_pbc(True)\n",
    "    slab.set_calculator(calc)\n",
    "    \n",
    "    os.makedirs(\"output\", exist_ok=True)\n",
    "    BFGS_opt = LBFGS(slab, trajectory=\"output/slab_opt\" + name + \".traj\")#, logfile=None)\n",
    "    BFGS_opt.run(fmax=0.05, steps = 200)\n",
    "    \n",
    "    # Save slab structure\n",
    "    os.makedirs(\"output/structures/\", exist_ok=True)\n",
    "    write(\"output/structures/Slab_\" + name + \".xyz\", slab)\n",
    "    \n",
    "    #スラブモデルのエネルギーを保存\n",
    "    slab_energy = slab.get_potential_energy()\n",
    "    #各吸着点における候補分子の吸着構造最適化とエネルギー計算\n",
    "    for i in range(1, 4, 1):\n",
    "        for j in range(1, 3, 1):\n",
    "            for mol in molec:\n",
    "#                mol = molecule(mol)\n",
    "#                mol.rotate(30, v=\"x\")\n",
    "#                mol.rotate(30, v=\"y\")\n",
    "                mol_on_slab = slab.copy()\n",
    "\n",
    "                # height: height of molecule from slab surface\n",
    "                # position: x,y position of molecule\n",
    "                # The molecule position can be modified later, and thus rough value is ok here.\n",
    "                add_adsorbate(mol_on_slab, mol, height=3, position=(i, j))\n",
    "                c = FixAtoms(indices=[atom.index for atom in mol_on_slab if atom.position[2] <= z_threshold + 9])\n",
    "                mol_on_slab.set_constraint(c)\n",
    "\n",
    "                # Set up the calculator\n",
    "                mol_on_slab.set_calculator(calc)\n",
    "                os.makedirs('data', exist_ok=True)\n",
    "                # Define structure optimizer - LBFGS. Run for 100 steps, \n",
    "                # or if the max force on all atoms (fmax) is below 0 ev/A.\n",
    "                # fmax is typically set to 0.01-0.05 eV/A, \n",
    "                # for this demo however we run for the full 100 steps.\n",
    "                dyn = LBFGS(mol_on_slab, trajectory=\"data/\" + name + \"_mol_\" + str(mol) + \"_onto_\" + str(i) + \"_\" + str(j) + \"_relax.traj\")#, logfile = None)\n",
    "                dyn.run(fmax=0.05, steps=300)    \n",
    "                traj = ase.io.read(\"data/\" + name + \"_mol_\" + str(mol) + \"_onto_\" + str(i) + \"_\" + str(j) + \"_relax.traj\", \":\")\n",
    "                # convert traj format to extxyz format (used by OC20 dataset)\n",
    "                columns = (['symbols','positions', 'move_mask', 'tags'])\n",
    "                with open(\"data/\" + name + \"_mol_\" + str(mol) + \"_onto_\" + str(i) + \"_\" + str(j) + \"_relax.extxyz\",'w') as f:\n",
    "                    extxyz.write_xyz(f, traj, columns=columns)\n",
    "\n",
    "                #最適化後の金属構造をロードし、エネルギーを出力\n",
    "                raw_slab_energy = slab_energy\n",
    "                \n",
    "                \n",
    "\n",
    "                #最適化後の吸着構造をロードし、エネルギーを出力\n",
    "                final_structure = traj[-1]\n",
    "                relaxed_energy = final_structure.get_potential_energy()\n",
    "\n",
    "                #分子のエネルギー計算（これは関数化すべき）\n",
    "                adsorbate = Atoms(mol).get_chemical_symbols()\n",
    "                # For clarity, we define arbitrary gas reference energies here.\n",
    "                # A more detailed discussion of these calculations can be found in the corresponding paper's SI. \n",
    "                gas_reference_energies = {'H': .3, 'O': .45, 'C': .35, 'N': .50}\n",
    "                adsorbate_reference_energy = 0\n",
    "                for ads in adsorbate:\n",
    "                    adsorbate_reference_energy += gas_reference_energies[ads]\n",
    "                adsorption_energy = relaxed_energy - raw_slab_energy - adsorbate_reference_energy\n",
    "                print(\"catalyst:\", name, \"adsorbate\", mol, \"site\", i, j, \"Eads:\",  adsorption_energy)\n",
    "                \n",
    "                adsorption_structures = adsorption_structures.append({\"composition\": name,\n",
    "                                                                      'opt_energy': raw_slab_energy, \n",
    "                                                                      \"mol\": str(mol),\n",
    "                                                                      'onto_0': i,\n",
    "                                                                      \"onto_1\": j,\n",
    "                                                                      \"ads_energy\": adsorption_energy}, ignore_index = True)\n",
    "\n",
    "                #初期構造の表示\n",
    "                fig, ax = plt.subplots(1, 1)\n",
    "                ase.visualize.plot.plot_atoms(traj[len(traj) - 1], \n",
    "                                              ax, \n",
    "                                              radii=0.8, \n",
    "                                              rotation=(\"280x, 60y, 10z\"))\n",
    "                path = \"D:/OneDrive/デスクトップ/Data science/ようつべ/実戦編/OCM catalyst reaction analysis\" + \"/\" +  name + str(mol) + str(i) + str(j) + \".png\"\n",
    "                fig.savefig(path)\n",
    "                plt.show()\n",
    "    del bulk, slab\n",
    "    "
   ]
  },
  {
   "cell_type": "code",
   "execution_count": null,
   "id": "5e44717e",
   "metadata": {},
   "outputs": [],
   "source": [
    "adsorption_structures.to_csv(\"20230107_adsorption_structures_including_CH4_CH4O_O_subsurface_const_bulk_relaxed.csv\")"
   ]
  },
  {
   "cell_type": "code",
   "execution_count": null,
   "id": "097e3a5e",
   "metadata": {},
   "outputs": [],
   "source": [
    "for index in range(len(df_catalyst_key_unique)):\n",
    "    ids = df_catalyst_key_unique[\"Material ID\"][df_catalyst_key_unique.index[index]]\n",
    "    insert_num = df_catalyst_key_unique[\"M1_atom_number\"][df_catalyst_key_unique.index[index]]\n",
    "    base_num = df_catalyst_key_unique[\"M2_atom_number\"][df_catalyst_key_unique.index[index]]\n",
    "    insert_ratio = df_catalyst_key_unique[\"M1_mol%\"][df_catalyst_key_unique.index[index]]\n",
    "    base_ratio = df_catalyst_key_unique[\"M2_mol%\"][df_catalyst_key_unique.index[index]]\n",
    "    name = df_catalyst_key_unique[\"Name\"][df_catalyst_key_unique.index[index]].replace(\"/\",\"_\")\n",
    "    print(ids, insert_num, base_num, insert_ratio, name)\n",
    "\n",
    "    for i in range(1, 4, 1):\n",
    "        for j in range(1, 3, 1):\n",
    "            for mol in molec:\n",
    "                mol = molecule(mol)        \n",
    "                print(mol, i, j)\n",
    "\n"
   ]
  },
  {
   "cell_type": "code",
   "execution_count": null,
   "id": "cf83dafb",
   "metadata": {},
   "outputs": [],
   "source": [
    "#繰り返し構造の設定\n",
    "index=0\n",
    "ids = df_catalyst_key_unique[\"Material ID\"][df_catalyst_key_unique.index[index]]\n",
    "insert_num = df_catalyst_key_unique[\"M1_atom_number\"][df_catalyst_key_unique.index[index]]\n",
    "base_num = df_catalyst_key_unique[\"M2_atom_number\"][df_catalyst_key_unique.index[index]]\n",
    "insert_ratio = df_catalyst_key_unique[\"M1_mol%\"][df_catalyst_key_unique.index[index]]\n",
    "base_ratio = df_catalyst_key_unique[\"M2_mol%\"][df_catalyst_key_unique.index[index]]\n",
    "name = df_catalyst_key_unique[\"Name\"][df_catalyst_key_unique.index[index]].replace(\"/\",\"_\")\n",
    "\n",
    "\n",
    "make_crystal_cif(ids)\n",
    "bulk = bulk_set_opt(insert_num, base_num, insert_ratio, base_ratio)\n",
    "\n",
    "slab = makesurface(bulk, miller_indices=(1, 1, 1), layers=2, rep=[1, 1, 1])\n",
    "slab = sort(slab)\n",
    "# adjust `positions` before `wrap`\n",
    "slab.positions += [1, 1, 0]\n",
    "slab.wrap()\n",
    "\n",
    "# Check z_position of atoms\n",
    "atoms = slab\n",
    "df = pd.DataFrame({\n",
    "    \"x\": atoms.positions[:, 0],\n",
    "    \"y\": atoms.positions[:, 1],\n",
    "    \"z\": atoms.positions[:, 2],\n",
    "    \"symbol\": atoms.symbols,\n",
    "})\n",
    "display(df)\n",
    "\n",
    "coord = \"z\"\n",
    "df_sorted = df.sort_values(coord).reset_index().rename({\"index\": \"atom_index\"}, axis=1)\n",
    "z_threshold = df_sorted[\"z\"][len(df_sorted) - 20]\n",
    "fig = px.scatter(df_sorted, x=df_sorted.index, y=coord, color=\"symbol\", hover_data=[\"x\", \"y\", \"z\", \"atom_index\"])\n",
    "fig.show()\n",
    "\n",
    "view(atoms)\n"
   ]
  },
  {
   "cell_type": "markdown",
   "id": "3e34b071",
   "metadata": {},
   "source": [
    "## 2. 表面の切り出し\n",
    "\n",
    "結晶構造から表面を切り出します。"
   ]
  },
  {
   "cell_type": "code",
   "execution_count": null,
   "id": "32af7e5f",
   "metadata": {},
   "outputs": [],
   "source": [
    "# Fix atoms under z=10 A（subsurfaceの原子は固定、この束縛は任意に緩和可能だが緩和するほど計算は重くなる）\n",
    "c = FixAtoms(indices=[atom.index for atom in slab if atom.position[2] <= z_threshold])\n",
    "slab.set_constraint(c)\n",
    "slab.center(vacuum=10.0, axis=2)\n",
    "slab.set_pbc(True)\n",
    "view(slab)"
   ]
  },
  {
   "cell_type": "code",
   "execution_count": null,
   "id": "f0a4d58e",
   "metadata": {},
   "outputs": [],
   "source": [
    "mol_on_slab = slab.copy()\n",
    "\n",
    "# height: height of molecule from slab surface\n",
    "# position: x,y position of molecule\n",
    "# The molecule position can be modified later, and thus rough value is ok here.\n",
    "add_adsorbate(mol_on_slab, methoxy, height=3, position=(1, 1))\n",
    "c = FixAtoms(indices=[atom.index for atom in mol_on_slab if atom.position[2] <= z_threshold + 9])\n",
    "mol_on_slab.set_constraint(c)\n",
    "view(mol_on_slab)\n"
   ]
  },
  {
   "cell_type": "code",
   "execution_count": null,
   "id": "e012f62d",
   "metadata": {},
   "outputs": [],
   "source": [
    "slab = makesurface(bulk, miller_indices=(1, 1, 1), layers=2, rep=[1, 1, 1])\n",
    "slab = sort(slab)\n",
    "# adjust `positions` before `wrap`\n",
    "slab.positions += [1, 1, 0]\n",
    "slab.wrap()"
   ]
  },
  {
   "cell_type": "code",
   "execution_count": null,
   "id": "07ac2321",
   "metadata": {},
   "outputs": [],
   "source": [
    "\n",
    "# Check z_position of atoms\n",
    "atoms = slab\n",
    "df = pd.DataFrame({\n",
    "    \"x\": atoms.positions[:, 0],\n",
    "    \"y\": atoms.positions[:, 1],\n",
    "    \"z\": atoms.positions[:, 2],\n",
    "    \"symbol\": atoms.symbols,\n",
    "})\n",
    "#display(df)\n",
    "\n",
    "coord = \"z\"\n",
    "df_sorted = df.sort_values(coord).reset_index().rename({\"index\": \"atom_index\"}, axis=1)\n",
    "z_threshold = df_sorted[\"z\"][len(df_sorted) - 50]\n",
    "fig = px.scatter(df_sorted, x=df_sorted.index, y=coord, color=\"symbol\", hover_data=[\"x\", \"y\", \"z\", \"atom_index\"])\n",
    "fig.show()"
   ]
  },
  {
   "cell_type": "markdown",
   "id": "98a19bbb",
   "metadata": {},
   "source": [
    "## 3. 組成の変更と構造最適化\n",
    "\n",
    "先述のとおり今回引用した結晶構造においてはNaが含まれません。ですので、吸着エネルギーの計算にあたってはMnの一部がNaに置換された構造を生成する必要がある、と考えました（実際のところどういう結晶構造なのかというのは作業仮説になってしまうので、ココには論理ギャップがあることに注意する必要があります）。結晶構造中のMnをNaに置換することは非常に簡単ですので、やってみましょう。"
   ]
  },
  {
   "cell_type": "code",
   "execution_count": null,
   "id": "43fdb5de",
   "metadata": {},
   "outputs": [],
   "source": [
    "#結晶構造の元素番号を確認する\n",
    "numbers = atoms.get_atomic_numbers()\n",
    "numbers"
   ]
  },
  {
   "cell_type": "code",
   "execution_count": null,
   "id": "6510fe9c",
   "metadata": {},
   "outputs": [],
   "source": [
    "#Mnの個数\n",
    "Mn_count = np.count_nonzero(numbers == 25)\n",
    "#Mnのindex\n",
    "indices_Mn_count = np.where(numbers == 25)[0]"
   ]
  },
  {
   "cell_type": "code",
   "execution_count": null,
   "id": "8acb61ed",
   "metadata": {},
   "outputs": [],
   "source": [
    "#Mnのindexを、任意比率でNaに変更\n",
    "replace_index = np.random.choice(indices_Mn_count, size= 20, replace=False)\n",
    "print(f\"Replace {replace_index} atom\")\n",
    "numbers[replace_index] = 11\n",
    "atoms.set_atomic_numbers(numbers)"
   ]
  },
  {
   "cell_type": "code",
   "execution_count": null,
   "id": "e4752632",
   "metadata": {},
   "outputs": [],
   "source": [
    "# Fix atoms under z=10 A（subsurfaceの原子は固定、この束縛は任意に緩和可能だが緩和するほど計算は重くなる）\n",
    "c = FixAtoms(indices=[atom.index for atom in slab if atom.position[2] <= z_threshold])\n",
    "slab.set_constraint(c)\n",
    "slab.center(vacuum=13.0, axis=2)\n",
    "slab.set_pbc(True)\n",
    "slab.set_calculator(calc)"
   ]
  },
  {
   "cell_type": "code",
   "execution_count": null,
   "id": "477d7612",
   "metadata": {},
   "outputs": [],
   "source": [
    "#構造の確認\n",
    "fig, ax = plt.subplots(1, 1)\n",
    "ase.visualize.plot.plot_atoms(slab, \n",
    "                              ax, \n",
    "                              radii=0.8, \n",
    "                              rotation=(\"-75x, 45y, 10z\"))"
   ]
  },
  {
   "cell_type": "code",
   "execution_count": null,
   "id": "de9e818a",
   "metadata": {},
   "outputs": [],
   "source": [
    "\n",
    "os.makedirs(\"output\", exist_ok=True)\n",
    "BFGS_opt = FIRE(slab, trajectory=\"output/slab_opt.traj\")#, logfile=None)\n",
    "BFGS_opt.run(fmax=0.01, steps = 500)"
   ]
  },
  {
   "cell_type": "code",
   "execution_count": null,
   "id": "dff11dda",
   "metadata": {},
   "outputs": [],
   "source": [
    "# Save slab structure\n",
    "os.makedirs(\"output/structures/\", exist_ok=True)\n",
    "write(\"output/structures/Slab_MnNa2WO4.xyz\", slab)\n"
   ]
  },
  {
   "cell_type": "code",
   "execution_count": null,
   "id": "d6582d12",
   "metadata": {},
   "outputs": [],
   "source": [
    "#スラブモデルのエネルギーを保存\n",
    "slab_energy = slab.get_potential_energy()"
   ]
  },
  {
   "cell_type": "markdown",
   "id": "98369c15",
   "metadata": {},
   "source": [
    "## 4. 吸着エネルギーの計算\n",
    "\n"
   ]
  },
  {
   "cell_type": "code",
   "execution_count": null,
   "id": "4bfd3764",
   "metadata": {},
   "outputs": [],
   "source": [
    "#吸着種の指定\n",
    "molec = molecule(\"O2\")\n",
    "# example to read sdf file\n",
    "# molec = read(\"xxxxxx.sdf\")"
   ]
  },
  {
   "cell_type": "code",
   "execution_count": null,
   "id": "eb2c9618",
   "metadata": {},
   "outputs": [],
   "source": [
    "mol_on_slab = slab.copy()\n",
    "\n",
    "# height: height of molecule from slab surface\n",
    "# position: x,y position of molecule\n",
    "# The molecule position can be modified later, and thus rough value is ok here.\n",
    "add_adsorbate(mol_on_slab, molec, height=1, position=(8, 4))\n",
    "c = FixAtoms(indices=[atom.index for atom in mol_on_slab if atom.position[2] <= 8])\n",
    "mol_on_slab.set_constraint(c)"
   ]
  },
  {
   "cell_type": "code",
   "execution_count": null,
   "id": "a602fc36",
   "metadata": {},
   "outputs": [],
   "source": [
    "#初期構造の表示\n",
    "fig, ax = plt.subplots(1, 1)\n",
    "ase.visualize.plot.plot_atoms(mol_on_slab, \n",
    "                              ax, \n",
    "                              radii=0.8, \n",
    "                              rotation=(\"-75x, 45y, 10z\"))"
   ]
  },
  {
   "cell_type": "markdown",
   "id": "4cd336a4",
   "metadata": {},
   "source": [
    "いよいよ吸着エネルギーの計算に移ります。吸着エネルギーは以下の式で定義されます。\n",
    "\n",
    "Eads = Erelaxed - Eraw_slab - Eadsorbate\n",
    "\n",
    "つまり、分子を吸着させた系全体のエネルギーが吸着前の構造に比してどれだけ変化したかを指します。ここで、吸着分子のエネルギーについては下記スクリプトをみればわかる通り、非常にラフな計算しかしていません。これは、吸着エネルギーの計算においてEadsobateは定数項としての役割しか果たさず、従って結晶構造を変えた際における吸着エネルギーの相対値に対しては寄与しないためです。"
   ]
  },
  {
   "cell_type": "code",
   "execution_count": null,
   "id": "187beb15",
   "metadata": {},
   "outputs": [],
   "source": [
    "# Set up the calculator\n",
    "mol_on_slab.set_calculator(calc)\n",
    "os.makedirs('data', exist_ok=True)\n",
    "# Define structure optimizer - LBFGS. Run for 100 steps, \n",
    "# or if the max force on all atoms (fmax) is below 0 ev/A.\n",
    "# fmax is typically set to 0.01-0.05 eV/A, \n",
    "# for this demo however we run for the full 100 steps.\n",
    "dyn = BFGS(mol_on_slab, trajectory=\"data/\" + \"mol_on_slab\" + \"_relax.traj\")\n",
    "dyn.run(fmax=0.05, steps=1000)    \n",
    "traj = ase.io.read(\"data/\" + \"mol_on_slab\" + \"_relax.traj\", \":\")\n",
    "# convert traj format to extxyz format (used by OC20 dataset)\n",
    "columns = (['symbols','positions', 'move_mask', 'tags'])\n",
    "with open(\"data/\" + \"mol_on_slab\" + \"_relax.extxyz\",'w') as f:\n",
    "    extxyz.write_xyz(f, traj, columns=columns)\n",
    "\n",
    "#最適化後の金属構造をロードし、エネルギーを出力\n",
    "raw_slab_energy = slab_energy\n",
    "\n",
    "#最適化後の吸着構造をロードし、エネルギーを出力\n",
    "final_structure = traj[-1]\n",
    "relaxed_energy = final_structure.get_potential_energy()\n",
    "\n",
    "#分子のエネルギー計算（これは関数化すべき）\n",
    "adsorbate = Atoms(molec).get_chemical_symbols()\n",
    "# For clarity, we define arbitrary gas reference energies here.\n",
    "# A more detailed discussion of these calculations can be found in the corresponding paper's SI. \n",
    "gas_reference_energies = {'H': .3, 'O': .45, 'C': .35, 'N': .50}\n",
    "adsorbate_reference_energy = 0\n",
    "for ads in adsorbate:\n",
    "    adsorbate_reference_energy += gas_reference_energies[ads]\n",
    "adsorption_energy = relaxed_energy - raw_slab_energy - adsorbate_reference_energy\n"
   ]
  },
  {
   "cell_type": "markdown",
   "id": "89bf19b2",
   "metadata": {},
   "source": [
    "最後に吸着エネルギーを確認します。OC20+22力場はOC20力場に比してエネルギーの絶対値が大きくなることが確認されております。　\n",
    "\n",
    "（簡単な例で確認したところ、相対値は合っていました）。"
   ]
  },
  {
   "cell_type": "code",
   "execution_count": null,
   "id": "abd25fa2",
   "metadata": {},
   "outputs": [],
   "source": [
    "#吸着エネルギーの確認\n",
    "adsorption_energy"
   ]
  },
  {
   "cell_type": "code",
   "execution_count": null,
   "id": "10e0fcff",
   "metadata": {},
   "outputs": [],
   "source": [
    "len(traj)"
   ]
  },
  {
   "cell_type": "code",
   "execution_count": null,
   "id": "6af785ce",
   "metadata": {},
   "outputs": [],
   "source": [
    "#初期構造の表示\n",
    "fig, ax = plt.subplots(1, 1)\n",
    "ase.visualize.plot.plot_atoms(traj[len(traj) - 1], \n",
    "                              ax, \n",
    "                              radii=0.8, \n",
    "                              rotation=(\"-75x, 45y, 10z\"))\n",
    "plt.show()"
   ]
  },
  {
   "cell_type": "code",
   "execution_count": null,
   "id": "f5448337",
   "metadata": {},
   "outputs": [],
   "source": [
    "for i in range(1, 4, 1):\n",
    "    for j in range(1, 4, 1):\n",
    "        \n",
    "        mol_on_slab = slab.copy()\n",
    "\n",
    "        # height: height of molecule from slab surface\n",
    "        # position: x,y position of molecule\n",
    "        # The molecule position can be modified later, and thus rough value is ok here.\n",
    "        add_adsorbate(mol_on_slab, molec, height=3, position=(i, j))\n",
    "        c = FixAtoms(indices=[atom.index for atom in mol_on_slab if atom.position[2] <= 8])\n",
    "        mol_on_slab.set_constraint(c)\n",
    "\n",
    "        # Set up the calculator\n",
    "        mol_on_slab.set_calculator(calc)\n",
    "        os.makedirs('data', exist_ok=True)\n",
    "        # Define structure optimizer - LBFGS. Run for 100 steps, \n",
    "        # or if the max force on all atoms (fmax) is below 0 ev/A.\n",
    "        # fmax is typically set to 0.01-0.05 eV/A, \n",
    "        # for this demo however we run for the full 100 steps.\n",
    "        dyn = BFGS(mol_on_slab, trajectory=\"data/\" + \"mol_on_slab\" + \"_relax.traj\", logfile = None)\n",
    "        dyn.run(fmax=0.05, steps=1000)    \n",
    "        traj = ase.io.read(\"data/\" + \"mol_on_slab\" + \"_relax.traj\", \":\")\n",
    "        # convert traj format to extxyz format (used by OC20 dataset)\n",
    "        columns = (['symbols','positions', 'move_mask', 'tags'])\n",
    "        with open(\"data/\" + \"mol_on_slab\" + \"_relax.extxyz\",'w') as f:\n",
    "            extxyz.write_xyz(f, traj, columns=columns)\n",
    "\n",
    "        #最適化後の金属構造をロードし、エネルギーを出力\n",
    "        raw_slab_energy = slab_energy\n",
    "\n",
    "        #最適化後の吸着構造をロードし、エネルギーを出力\n",
    "        final_structure = traj[-1]\n",
    "        relaxed_energy = final_structure.get_potential_energy()\n",
    "\n",
    "        #分子のエネルギー計算（これは関数化すべき）\n",
    "        adsorbate = Atoms(molec).get_chemical_symbols()\n",
    "        # For clarity, we define arbitrary gas reference energies here.\n",
    "        # A more detailed discussion of these calculations can be found in the corresponding paper's SI. \n",
    "        gas_reference_energies = {'H': .3, 'O': .45, 'C': .35, 'N': .50}\n",
    "        adsorbate_reference_energy = 0\n",
    "        for ads in adsorbate:\n",
    "            adsorbate_reference_energy += gas_reference_energies[ads]\n",
    "        adsorption_energy = relaxed_energy - raw_slab_energy - adsorbate_reference_energy\n",
    "        print(i, j, adsorption_energy)\n",
    "\n",
    "        #初期構造の表示\n",
    "        fig, ax = plt.subplots(1, 1)\n",
    "        ase.visualize.plot.plot_atoms(traj[len(traj) - 1], \n",
    "                                      ax, \n",
    "                                      radii=0.8, \n",
    "                                      rotation=(\"-75x, 45y, 10z\"))\n",
    "        plt.show()\n"
   ]
  },
  {
   "cell_type": "code",
   "execution_count": null,
   "id": "6e28ac0f",
   "metadata": {},
   "outputs": [],
   "source": []
  },
  {
   "cell_type": "code",
   "execution_count": null,
   "id": "41d5a2d8",
   "metadata": {},
   "outputs": [],
   "source": []
  }
 ],
 "metadata": {
  "kernelspec": {
   "display_name": "Python 3 (ipykernel)",
   "language": "python",
   "name": "python3"
  },
  "language_info": {
   "codemirror_mode": {
    "name": "ipython",
    "version": 3
   },
   "file_extension": ".py",
   "mimetype": "text/x-python",
   "name": "python",
   "nbconvert_exporter": "python",
   "pygments_lexer": "ipython3",
   "version": "3.9.15"
  }
 },
 "nbformat": 4,
 "nbformat_minor": 5
}
