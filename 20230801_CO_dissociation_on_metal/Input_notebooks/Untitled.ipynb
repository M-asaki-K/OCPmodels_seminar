{
 "cells": [
  {
   "cell_type": "code",
   "execution_count": 1,
   "id": "7e4c83a5",
   "metadata": {},
   "outputs": [
    {
     "data": {
      "text/plain": [
       "'C:\\\\Users\\\\uni21\\\\ocp'"
      ]
     },
     "execution_count": 1,
     "metadata": {},
     "output_type": "execute_result"
    }
   ],
   "source": [
    "#作業ディレクトリの設定\n",
    "import os\n",
    "os.chdir(\"..\")\n",
    "os.chdir(\"..\")\n",
    "os.getcwd()"
   ]
  },
  {
   "cell_type": "code",
   "execution_count": 1,
   "id": "2793ab0d",
   "metadata": {},
   "outputs": [],
   "source": [
    "import ase.io\n",
    "from ase.optimize import LBFGS\n",
    "from ase.build import fcc100, fcc111, add_adsorbate, molecule\n",
    "import os\n",
    "from ase.constraints import FixAtoms\n",
    "import numpy as np\n",
    "from ase.io import extxyz\n",
    "from ase.data import atomic_numbers\n",
    "\n",
    "import ase\n",
    "from ase import Atoms, units, Atom\n",
    "from ase.units import Bohr,Rydberg,kJ,kB,fs,Hartree,mol,kcal\n",
    "from ase.io import read, write\n",
    "from ase.build import surface, molecule, add_adsorbate\n",
    "from ase.constraints import FixAtoms, FixedPlane, FixBondLength, ExpCellFilter\n",
    "from ase.neb import NEB\n",
    "from ase.vibrations import Vibrations\n",
    "from ase.thermochemistry import IdealGasThermo\n",
    "from ase.visualize import view\n",
    "from ase.build.rotate import minimize_rotation_and_translation\n",
    "from ase.optimize import BFGS, LBFGS, FIRE\n",
    "from ase.md import MDLogger\n",
    "from ase.io import read, write, Trajectory\n",
    "from ase.build import sort\n",
    "import pandas as pd\n",
    "from ase.build import bulk\n"
   ]
  },
  {
   "cell_type": "code",
   "execution_count": 6,
   "id": "4e310b55",
   "metadata": {},
   "outputs": [
    {
     "data": {
      "text/plain": [
       "'C:\\\\Users\\\\uni21\\\\ocp'"
      ]
     },
     "execution_count": 6,
     "metadata": {},
     "output_type": "execute_result"
    }
   ],
   "source": [
    "#作業ディレクトリの設定\n",
    "import os\n",
    "os.chdir(\"..\")\n",
    "os.chdir(\"..\")\n",
    "os.getcwd()"
   ]
  },
  {
   "cell_type": "code",
   "execution_count": 9,
   "id": "10018c19",
   "metadata": {},
   "outputs": [],
   "source": [
    "file = read(\"./20230801_CO_dissociation_on_metal/Outputs/support/Co/mol_on_slab_opt/Co(1_1_1)31C_O.cif\")"
   ]
  },
  {
   "cell_type": "code",
   "execution_count": 10,
   "id": "d3971ecd",
   "metadata": {},
   "outputs": [
    {
     "data": {
      "text/plain": [
       "<Popen: returncode: None args: ['C:\\\\Users\\\\uni21\\\\anaconda3\\\\envs\\\\ocp-mode...>"
      ]
     },
     "execution_count": 10,
     "metadata": {},
     "output_type": "execute_result"
    }
   ],
   "source": [
    "view(file)"
   ]
  },
  {
   "cell_type": "code",
   "execution_count": null,
   "id": "2a77b917",
   "metadata": {},
   "outputs": [],
   "source": []
  }
 ],
 "metadata": {
  "kernelspec": {
   "display_name": "Python 3 (ipykernel)",
   "language": "python",
   "name": "python3"
  },
  "language_info": {
   "codemirror_mode": {
    "name": "ipython",
    "version": 3
   },
   "file_extension": ".py",
   "mimetype": "text/x-python",
   "name": "python",
   "nbconvert_exporter": "python",
   "pygments_lexer": "ipython3",
   "version": "3.9.15"
  }
 },
 "nbformat": 4,
 "nbformat_minor": 5
}
