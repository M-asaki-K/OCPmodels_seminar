{
 "cells": [
  {
   "cell_type": "code",
   "execution_count": 1,
   "id": "d004f620",
   "metadata": {},
   "outputs": [],
   "source": [
    "# MIT License\n",
    "#\n",
    "#@title Copyright (c) 2021 CCAI Community Authors { display-mode: \"form\" }\n",
    "#\n",
    "# Permission is hereby granted, free of charge, to any person obtaining a\n",
    "# copy of this software and associated documentation files (the \"Software\"),\n",
    "# to deal in the Software without restriction, including without limitation\n",
    "# the rights to use, copy, modify, merge, publish, distribute, sublicense,\n",
    "# and/or sell copies of the Software, and to permit persons to whom the\n",
    "# Software is furnished to do so, subject to the following conditions:\n",
    "#\n",
    "# The above copyright notice and this permission notice shall be included in\n",
    "# all copies or substantial portions of the Software.\n",
    "#\n",
    "# THE SOFTWARE IS PROVIDED \"AS IS\", WITHOUT WARRANTY OF ANY KIND, EXPRESS OR\n",
    "# IMPLIED, INCLUDING BUT NOT LIMITED TO THE WARRANTIES OF MERCHANTABILITY,\n",
    "# FITNESS FOR A PARTICULAR PURPOSE AND NONINFRINGEMENT. IN NO EVENT SHALL\n",
    "# THE AUTHORS OR COPYRIGHT HOLDERS BE LIABLE FOR ANY CLAIM, DAMAGES OR OTHER\n",
    "# LIABILITY, WHETHER IN AN ACTION OF CONTRACT, TORT OR OTHERWISE, ARISING\n",
    "# FROM, OUT OF OR IN CONNECTION WITH THE SOFTWARE OR THE USE OR OTHER\n",
    "# DEALINGS IN THE SOFTWARE."
   ]
  },
  {
   "cell_type": "markdown",
   "id": "106b9b21",
   "metadata": {},
   "source": [
    "## 0. 初めに\n",
    "\n",
    "このnotebookはNNPを用いた触媒計算について、その威力を実体験いただくことを目的とします。\n",
    "\n",
    "不均一触媒に使えるNNP、すなわちDFTの一部を超高速かつ高精度に代替する分子力場として、Open Catalyst Projectが挙げられます。この力場はFacebook社を中心としたコンピュータリソースをもとに作成されたDFT計算（構造と力、エネルギー）のビッグデータを学習するコンペティションにより得られるもので、誰でも使用する事ができます。ただ、コンペティションの常として、力場の精度向上に関する取組は多く行われている一方で、実際にこれを使ってなにがしかの課題を設定し解くという向きについてはまだ公知の情報に乏しいという悩みがございます。\n",
    "\n",
    "本セミナーおよびnotebookは、この悩みを解決することを主なターゲットとし、以下の情報を具体例とともに体験学習することができます。\n",
    "\n",
    "・OCP力場および計算環境の構築方法\n",
    "\n",
    "・OCP力場を用いた計算フローの「ひな型」\n",
    "\n",
    "ここで「ひな型」と書いたのは、計算化学的なアプローチにより触媒構造を明らかにする際にはしかるべき手順があるということを（計算化学についてはずぶの素人である作成者自身が試行錯誤と有識者へのヒアリングにより経験した話として）強調するためです。しかるべき手順といっても、その一つ一つは非常に明快な論理に基づく要請であり、かつ個々の応用先が変わったとしてもこれらひな型にはほぼ変わりがありません。従って、当セミナーにてこれら一連の流れを実体験していただくことは一定の意義があるだろうと考えています。何しろ、NNPの普及はありとあらゆる実験家に対し、オンタイムで実験結果を解釈しかつ要すれば逆解析までを可能とする計算化学の枠組を提示しているのです。とりもなおさず今、この文章を目にしているあなたの手中にも。\n",
    "\n",
    "黎明期の常として、当スクリプト群は発展途上のものであり、計算方法には改善の余地がございます。これらについて継続して改良することは言うまでもありませんが、それでも現時点においてNNPが触媒開発に対し、現実的に役立つ計算化学的手法として躍り出たことを私は確信しています。また、その出現に立ち会えたことは研究者として純粋なよろこびでした。\n",
    "\n",
    "それでは、NNP を たいけん する ぼうけん の たび へ レッツ ゴー！\n",
    "\n",
    "2023.1.14 Masaki Open Lab"
   ]
  },
  {
   "cell_type": "markdown",
   "id": "17d48338",
   "metadata": {},
   "source": [
    "## 1. 学習済みモデル（力場）のダウンロード\n",
    "\n",
    "学習済みのモデルを右記リンクからダウンロードします。[here](https://github.com/Open-Catalyst-Project/ocp/blob/master/MODELS.md)学習済みのモデルはASEのCalculatorクラスとして使用できます。\n",
    "\n",
    "※今回はリンク先から該当ファイルを直接ダウンロードしocpフォルダに格納しました。なお当セミナーでは純金属を取り扱うためoc20モデルを使用しましたが、酸化物触媒を使用される場合はoc22モデルを検討ください。"
   ]
  },
  {
   "cell_type": "code",
   "execution_count": 45,
   "id": "5a57d8c0",
   "metadata": {},
   "outputs": [
    {
     "ename": "OSError",
     "evalue": "[Errno 22] Invalid argument: 'C:/Users/****/ocp/configs/s2ef/all/gemnet/gemnet-dT.yml'",
     "output_type": "error",
     "traceback": [
      "\u001b[1;31m---------------------------------------------------------------------------\u001b[0m",
      "\u001b[1;31mOSError\u001b[0m                                   Traceback (most recent call last)",
      "Cell \u001b[1;32mIn[45], line 33\u001b[0m\n\u001b[0;32m     30\u001b[0m config_yml_path \u001b[38;5;241m=\u001b[39m \u001b[38;5;124mr\u001b[39m\u001b[38;5;124m\"\u001b[39m\u001b[38;5;124mC:/Users/****/ocp/configs/s2ef/all/gemnet/gemnet-dT.yml\u001b[39m\u001b[38;5;124m\"\u001b[39m\n\u001b[0;32m     32\u001b[0m \u001b[38;5;66;03m#Define the calculator\u001b[39;00m\n\u001b[1;32m---> 33\u001b[0m calc \u001b[38;5;241m=\u001b[39m \u001b[43mOCPCalculator\u001b[49m\u001b[43m(\u001b[49m\u001b[43mconfig_yml\u001b[49m\u001b[38;5;241;43m=\u001b[39;49m\u001b[43mconfig_yml_path\u001b[49m\u001b[43m,\u001b[49m\u001b[43m \u001b[49m\u001b[43mcheckpoint\u001b[49m\u001b[38;5;241;43m=\u001b[39;49m\u001b[43mcheckpoint_path\u001b[49m\u001b[43m,\u001b[49m\u001b[43m \u001b[49m\u001b[43mcpu\u001b[49m\u001b[43m \u001b[49m\u001b[38;5;241;43m=\u001b[39;49m\u001b[43m \u001b[49m\u001b[38;5;28;43;01mFalse\u001b[39;49;00m\u001b[43m)\u001b[49m\n",
      "File \u001b[1;32m~\\ocp\\ocpmodels\\common\\relaxation\\ase_utils.py:104\u001b[0m, in \u001b[0;36mOCPCalculator.__init__\u001b[1;34m(self, config_yml, checkpoint, trainer, cutoff, max_neighbors, cpu)\u001b[0m\n\u001b[0;32m    102\u001b[0m \u001b[38;5;28;01mif\u001b[39;00m config_yml \u001b[38;5;129;01mis\u001b[39;00m \u001b[38;5;129;01mnot\u001b[39;00m \u001b[38;5;28;01mNone\u001b[39;00m:\n\u001b[0;32m    103\u001b[0m     \u001b[38;5;28;01mif\u001b[39;00m \u001b[38;5;28misinstance\u001b[39m(config_yml, \u001b[38;5;28mstr\u001b[39m):\n\u001b[1;32m--> 104\u001b[0m         config \u001b[38;5;241m=\u001b[39m yaml\u001b[38;5;241m.\u001b[39msafe_load(\u001b[38;5;28;43mopen\u001b[39;49m\u001b[43m(\u001b[49m\u001b[43mconfig_yml\u001b[49m\u001b[43m,\u001b[49m\u001b[43m \u001b[49m\u001b[38;5;124;43m\"\u001b[39;49m\u001b[38;5;124;43mr\u001b[39;49m\u001b[38;5;124;43m\"\u001b[39;49m\u001b[43m)\u001b[49m)\n\u001b[0;32m    106\u001b[0m         \u001b[38;5;28;01mif\u001b[39;00m \u001b[38;5;124m\"\u001b[39m\u001b[38;5;124mincludes\u001b[39m\u001b[38;5;124m\"\u001b[39m \u001b[38;5;129;01min\u001b[39;00m config:\n\u001b[0;32m    107\u001b[0m             \u001b[38;5;28;01mfor\u001b[39;00m include \u001b[38;5;129;01min\u001b[39;00m config[\u001b[38;5;124m\"\u001b[39m\u001b[38;5;124mincludes\u001b[39m\u001b[38;5;124m\"\u001b[39m]:\n\u001b[0;32m    108\u001b[0m                 \u001b[38;5;66;03m# Change the path based on absolute path of config_yml\u001b[39;00m\n",
      "\u001b[1;31mOSError\u001b[0m: [Errno 22] Invalid argument: 'C:/Users/****/ocp/configs/s2ef/all/gemnet/gemnet-dT.yml'"
     ]
    }
   ],
   "source": [
    "from ocpmodels.common.relaxation.ase_utils import OCPCalculator\n",
    "import ase.io\n",
    "from ase.optimize import LBFGS\n",
    "from ase.build import fcc100, fcc111, add_adsorbate, molecule\n",
    "import os\n",
    "from ase.constraints import FixAtoms\n",
    "import numpy as np\n",
    "from ase.io import extxyz\n",
    "\n",
    "import ase\n",
    "from ase import Atoms, units, Atom\n",
    "from ase.units import Bohr,Rydberg,kJ,kB,fs,Hartree,mol,kcal\n",
    "from ase.io import read, write\n",
    "from ase.build import surface, molecule, add_adsorbate\n",
    "from ase.constraints import FixAtoms, FixedPlane, FixBondLength, ExpCellFilter\n",
    "from ase.neb import NEB\n",
    "from ase.vibrations import Vibrations\n",
    "from ase.thermochemistry import IdealGasThermo\n",
    "from ase.visualize import view\n",
    "from ase.build.rotate import minimize_rotation_and_translation\n",
    "from ase.optimize import BFGS, LBFGS, FIRE\n",
    "from ase.md import MDLogger\n",
    "from ase.io import read, write, Trajectory\n",
    "from ase.build import sort\n",
    "import pandas as pd\n",
    "from ase.build import bulk\n",
    "\n",
    "#モデルの置き場所（絶対パスで指定）\n",
    "checkpoint_path = \"C:/Users/****/ocp/gemnet_t_direct_h512_all.pt\"\n",
    "config_yml_path = r\"C:/Users/****/ocp/configs/s2ef/all/gemnet/gemnet-dT.yml\"\n",
    "\n",
    "#Define the calculator\n",
    "calc = OCPCalculator(config_yml=config_yml_path, checkpoint=checkpoint_path, cpu = False)"
   ]
  },
  {
   "cell_type": "markdown",
   "id": "d9027959",
   "metadata": {},
   "source": [
    "## 2. Cu上におけるCOの吸着エネルギー計算\n",
    "典型的な例として、Cu FCC(111)面のトップサイトにおけるCOの吸着エネルギーを各種金属に対して計算し、文献値と比較してみます。COは各種基礎的な化学反応の原料であり、その吸着エネルギーが計算できることは触媒設計上極めて有用な情報を提供することに他なりません。"
   ]
  },
  {
   "cell_type": "markdown",
   "id": "9df6ae02",
   "metadata": {},
   "source": [
    "吸着エネルギーの計算は以下のような手順をとります。以下順に実施していきます。\n",
    "\n",
    "①対象となる結晶構造の入手とbulk構造の最適化\n",
    "\n",
    "②結晶構造から表面を切り出し、slab構造を最適化\n",
    "\n",
    "③吸着対象分子について、slab構造にのせた状態で構造を最適化\n",
    "\n",
    "④slab構造と吸着構造との差から、吸着エネルギーを計算"
   ]
  },
  {
   "cell_type": "markdown",
   "id": "b471fdc8",
   "metadata": {},
   "source": [
    "## 2-1. 結晶構造の入手とbulk構造の最適化\n",
    "\n",
    "まずはバルク結晶構造を入手し、格子定数を最適化します。今回使用しているASEパッケージには一般的な金属の構造がすぐに引き出せる関数で用意されています。ここでは、単一金属結晶構造をbulk関数で呼び出し、その後OCP力場の下でこの格子定数を最適化してみましょう。ごく単純な実装として、格子定数をデフォルトの値から±1%（ここは任意）変化させ、最も安定な構造を選ぶこととします。"
   ]
  },
  {
   "cell_type": "code",
   "execution_count": 4,
   "id": "69c61afd",
   "metadata": {},
   "outputs": [],
   "source": [
    "#格子定数を任意の範囲で振ってエネルギー最適点を求める関数\n",
    "def opt_bulk(metal, min_a, max_a):\n",
    "    a = [] #格子定数の倍数\n",
    "    a = pd.DataFrame(np.empty((0, 2)), columns = [\"energy\", \"a\"])\n",
    "    for i in np.linspace(min_a, max_a):\n",
    "        bulk_test = bulk(metal)\n",
    "        ref = bulk_test.cell\n",
    "        bulk_test.cell = i * ref\n",
    "        bulk_test.set_tags(np.ones(len(bulk_test)))\n",
    "\n",
    "        bulk_test.calc = calc\n",
    "\n",
    "        e = (bulk_test.get_potential_energy())\n",
    "        a = a.append({\"energy\": e,\n",
    "                      \"a\": i}, ignore_index = True)\n",
    "\n",
    "        del bulk_test, ref\n",
    "    \n",
    "    return a[\"a\"][a['energy'].idxmin()]"
   ]
  },
  {
   "cell_type": "code",
   "execution_count": 6,
   "id": "dbc5dd72",
   "metadata": {},
   "outputs": [
    {
     "name": "stdout",
     "output_type": "stream",
     "text": [
      "1.0046938775510204\n"
     ]
    }
   ],
   "source": [
    "import warnings\n",
    "warnings.simplefilter('ignore')\n",
    "\n",
    "Opt_Cu_bulk_a = opt_bulk(\"Cu\", 0.99, 1.01)\n",
    "print(Opt_Cu_bulk_a)"
   ]
  },
  {
   "cell_type": "markdown",
   "id": "f28f6322",
   "metadata": {},
   "source": [
    "## コラム①：格子定数の最適化手法とその意義\n",
    "\n",
    "受講者の皆様はお気づきの通り、今回実装した格子定数の最適化手法は最もナイーブな方法の一つであり、hydtrostatic_strainという束縛がかかっています。つまり、格子のa,b,c軸がもとと同じ比率を保って最適化されるため、一部の軸については最適化しきれない可能性が残ります。\n",
    "\n",
    "ASEには様々な束縛条件を付けた最適化関数が用意されていますが、2023.1現在、当方が調べた限りにおいてOCP力場ではデフォルトの最適化関数を使用するとエラーを生じてしまいます（またこれに関連し、bulk構造の計算については以下のissueがopenとなっています）。従いまして、今回はナイーブを承知で上記のような関数を自前で実装した次第です。\n",
    "\n",
    "<https://github.com/Open-Catalyst-Project/ocp/issues/428>\n",
    "\n",
    "尚、格子定数の最適化手法やその意義について詳しくは以下を参照いただくことが好ましいと考えます。ここでは実験家にとって重要と思われる事項を抜粋します。このような情報が無料で手に入るというのも、2020年代の大きな特色です。\n",
    "\n",
    "\"現実世界の物質の原子配置がどのように決まっているかについて考えてみますと、一つ一つの原子は特に拘束もなく自由に動き回っているので、余計なエネルギーは散逸し、エネルギーの低い安定な構造へと変化していきます。一旦温度の影響を無視して十分に温度が低い場合を考えてみると、その場合は原子の運動エネルギーは0になり、ポテンシャルエネルギーは極小値をとることが考えられます。その意味では構造最適化計算は現実世界における絶対零度の状態を考えていることに対応しています。\n",
    "\n",
    "有限温度の場合にはどうでしょうか。統計力学の理論から、平衡状態にある系では温度と運動エネルギーは一定の関係にあることが知られており、大雑把な計算では1 Kの上昇はおおまかに1/10000 eV/atomの運動エネルギーの上昇に相当します。逆にいうと、1 eV/atomのエネルギーの上昇は温度に換算して10000 K程度の構造に相当するということです。このように有限温度の場合でもしばしばエネルギーを最適化した構造が十分に良い近似となることが多いため、シミュレーションのはじめにまずは構造最適化計算をしよう(有限温度の場合にはその後で温度を上昇させよう)という手順をとることが一般に行われています。\n",
    "\n",
    "構造最適化計算を行わずにシミュレーションをしてしまうと、前提条件の違いにより非現実的な結果をもたらしてしまう可能性があります。例えば鉄の結晶構造を1%小さくとった場合、原子構造を可視化しただけであれば特段の変化は見えないかもしれません。しかし現実世界で鉄を1%縮める操作を考えてみればわかるように、これは非常に強い圧縮力(具体的には1 GPaを超える圧力)のかかった鉄に相当するので、シミュレーションの結果を変えてしまうことが想定されます。\"\n",
    "\n",
    "<https://docs.matlantis.com/atomistic-simulation-tutorial/ja/2_2_opt_symmetry.html>"
   ]
  },
  {
   "cell_type": "markdown",
   "id": "9fe4489c",
   "metadata": {},
   "source": [
    "## コラム②：最適化アルゴリズム\n",
    "\n",
    "最適化アルゴリズムについて、日本国内で入手できる最高の情報源は下記となります。\n",
    "\n",
    "<https://docs.matlantis.com/atomistic-simulation-tutorial/ja/2_3_opt-algorithm.html>\n",
    "\n"
   ]
  },
  {
   "cell_type": "markdown",
   "id": "4c59dde2",
   "metadata": {},
   "source": [
    "## 2-2. 表面の切り出しとslab構造の最適化、表面エネルギーの算出\n",
    "\n",
    "バルクの格子定数が最適化できたら、その格子定数を用いて表面構造を作成、最適化し表面エネルギーを算出します。このとき考えるべきポイントは大きく3つあり、一つは表面の切り出し方、もう一つは最適化手法（前述）、そして最後は束縛条件です。\n",
    "\n",
    "一つ目に関しASEには典型的な表面を切り出す関数が複数用意されており、ここではその中からfcc111関数を使用します。もちろんこれだけではなく、よりカスタマイズされた表面の切り出し方もあります（当セミナーの後に発展編として事例紹介の予定）。また二つ目について、今回はLBFGS法を使用しました。\n",
    "\n",
    "三つ目の束縛条件について、具体的にはFixAtoms関数がこれに相当します。今回は原子にタグをつけ、最表面の原子以外は最適化計算において動かないものとする、という仮定を置きました（タグの付け方をここでは完全に手動で設定していますが、任意の結晶構造について最表面の原子がどれであるかを機械的に定義し固定することも勿論可能です…詳細は下記）。\n",
    "\n",
    "<https://docs.matlantis.com/atomistic-simulation-tutorial/ja/5_2_neb_catalyst.html>"
   ]
  },
  {
   "cell_type": "code",
   "execution_count": 37,
   "id": "c6757cc7",
   "metadata": {},
   "outputs": [],
   "source": [
    "def Calculate_slab_energy_fcc111(metal, fmax, steps):\n",
    "    #格子定数を最適化\n",
    "    bulk_test = bulk(metal)\n",
    "    ref = bulk_test.cell\n",
    "    Opt_bulk_a = opt_bulk(metal, 0.99, 1.01) * ref[0,2]*2\n",
    "    print(Opt_bulk_a)\n",
    "    \n",
    "    #金属のみの構造最適化とエネルギー計算\n",
    "    adslab = fcc111(metal, a=Opt_bulk_a, size=(3, 3, 3))\n",
    "\n",
    "    # tag all slab atoms below surface as 0, surface as 1, adsorbate as 2\n",
    "    tags = np.zeros(len(adslab))\n",
    "    tags[18:27] = 1\n",
    "    tags[27:] = 2\n",
    "    adslab.set_tags(tags)\n",
    "\n",
    "    # Fixed atoms are prevented from moving during a structure relaxation. \n",
    "    # We fix all slab atoms beneath the surface. \n",
    "    cons= FixAtoms(indices=[atom.index for atom in adslab if (atom.tag == 0)])\n",
    "    adslab.set_constraint(cons)\n",
    "    adslab.center(vacuum=13.0, axis=2)\n",
    "    adslab.set_pbc(False)\n",
    "\n",
    "    # Set up the calculator\n",
    "    adslab.set_calculator(calc)\n",
    "    os.makedirs('data', exist_ok=True)\n",
    "    # Define structure optimizer - LBFGS. Run for 100 steps, \n",
    "    # or if the max force on all atoms (fmax) is below 0 ev/A.\n",
    "    # fmax is typically set to 0.01-0.05 eV/A, \n",
    "    # for this demo however we run for the full 100 steps.\n",
    "    dyn = LBFGS(adslab, trajectory=\"data/\" + metal + \"_relax.traj\")\n",
    "    dyn.run(fmax=fmax, steps=steps)\n",
    "    traj_metal = ase.io.read(\"data/\" + metal + \"_relax.traj\", \":\")\n",
    "    # convert traj format to extxyz format (used by OC20 dataset)\n",
    "    columns = (['symbols','positions', 'move_mask', 'tags'])\n",
    "    with open(\"data/\" + metal + \"_relax.extxyz\",'w') as f:\n",
    "        extxyz.write_xyz(f, traj_metal, columns=columns)\n",
    "\n",
    "    #最適化後の金属構造をロードし、エネルギーを出力\n",
    "    final_structure = traj_metal[-1]\n",
    "    raw_slab_energy = final_structure.get_potential_energy()\n",
    "    \n",
    "    return raw_slab_energy"
   ]
  },
  {
   "cell_type": "code",
   "execution_count": 38,
   "id": "b469f6fe",
   "metadata": {},
   "outputs": [
    {
     "name": "stdout",
     "output_type": "stream",
     "text": [
      "3.6269448979591834\n",
      "       Step     Time          Energy         fmax\n",
      "LBFGS:    0 15:24:21       -0.732217        0.8514\n",
      "LBFGS:    1 15:24:21       -0.709654        0.8003\n",
      "LBFGS:    2 15:24:21       -0.767039        0.5478\n",
      "LBFGS:    3 15:24:21       -0.827158        0.3242\n",
      "LBFGS:    4 15:24:21       -0.835795        0.2935\n",
      "LBFGS:    5 15:24:21       -0.905722        0.0724\n",
      "LBFGS:    6 15:24:21       -0.911677        0.0848\n",
      "LBFGS:    7 15:24:21       -0.910762        0.1040\n",
      "LBFGS:    8 15:24:21       -0.908585        0.1013\n",
      "LBFGS:    9 15:24:21       -0.904931        0.0773\n",
      "LBFGS:   10 15:24:21       -0.904404        0.0656\n",
      "LBFGS:   11 15:24:21       -0.906519        0.0701\n",
      "LBFGS:   12 15:24:21       -0.908375        0.0554\n",
      "LBFGS:   13 15:24:21       -0.909457        0.0362\n"
     ]
    }
   ],
   "source": [
    "raw_slab_energy = Calculate_slab_energy_fcc111(\"Cu\", 0.05, 100)"
   ]
  },
  {
   "cell_type": "markdown",
   "id": "810e9ed7",
   "metadata": {},
   "source": [
    "## 2-3. 吸着構造の最適化\n",
    "\n",
    "引き続いて、先ほど作成したのと同様のslab構造に対しし所望の分子を吸着させた構造を作成、これを最適化します。今回は簡単のために対象外としましたが、より詳細な計算を行う場合には以下の2点に注意する必要があります。\n",
    "\n",
    "1つ目は吸着サイトの選び方です。単一金属からなるスラブモデルでも、金属原子のontopに吸着するのか、bridgeなのか、hcpなのか…といった吸着点の選び方により吸着構造のエネルギーは変化します。これが複数の元素からなる合金であればなおさらです。従ってより厳密には、様々なサイトに対し吸着構造の最適化を行い、その分布を化学的な視点で解析することで系の理解に努めることが求められます（どんなツールを使うかによらず、計算結果を出発点としてどのように考えるかが大事です…MatlantisのYouTubeではこの考える、という部分をArtと称しておりました）。なおASEではadd_adsorbate関数上のoffsetを変更することでサイトを任意に設定できるほか、典型的な表面についてはontop, bridgeといったワードでサイトを指定することも可能です。\n",
    "\n",
    "2つ目は吸着分子の「向き」です。例えば、対象とする分子におけるC-H結合のHが金属と相互作用するという仮定に基づき吸着構造の最適化を行うとします。にもかかわらず、対象とする分子の初期配置において、所望の結合が金属表面と正反対におかれていたらどうなるでしょう？　もしかしたら最適化計算により結合の向きがうまく金属側に来てくれるかもしれませんが、さもなければ意図した吸着構造と全く異なるものを求めてしまうことが想像されます。こうしたノイズを避けるために、moleculeを予め回転や平行移動することで所望の吸着構造をなるべく取りやすくする、という工夫が必要となります。ASEではrotate関数をはじめとする様々な機能が付与されており、こうした調整を簡単に行う事が出来ます（これらについても、セミナーの事例紹介を参照ください）。\n",
    "\n",
    "<https://docs.matlantis.com/atomistic-simulation-tutorial/ja/1_6_ase_playground.html#%E5%B9%B3%E8%A1%8C%E7%A7%BB%E5%8B%95%E3%80%81%E5%9B%9E%E8%BB%A2>"
   ]
  },
  {
   "cell_type": "code",
   "execution_count": 33,
   "id": "9d6fe3fd",
   "metadata": {},
   "outputs": [],
   "source": [
    "def Calculate_adsorption_energy_fcc111(metal, mol, fmax, steps):\n",
    "    #格子定数を最適化\n",
    "    bulk_test = bulk(metal)\n",
    "    ref = bulk_test.cell\n",
    "    Opt_bulk_a = opt_bulk(metal, 0.99, 1.01) * ref[0,2]*2\n",
    "    print(Opt_bulk_a)\n",
    "    \n",
    "    #COと金属の吸着構造最適化とエネルギーの計算\n",
    "    adslab = fcc111(metal, a=Opt_bulk_a, size=(3, 3, 3))\n",
    "    adsorbate = molecule(mol)\n",
    "    add_adsorbate(adslab, adsorbate, 3, offset=(1, 1)) # adslab = adsorbate + slab\n",
    "\n",
    "    # tag all slab atoms below surface as 0, surface as 1, adsorbate as 2\n",
    "    tags = np.zeros(len(adslab))\n",
    "    tags[18:27] = 1\n",
    "    tags[27:] = 2\n",
    "    adslab.set_tags(tags)\n",
    "    # Fixed atoms are prevented from moving during a structure relaxation. \n",
    "    # We fix all slab atoms beneath the surface. \n",
    "    cons= FixAtoms(indices=[atom.index for atom in adslab if (atom.tag == 0)])\n",
    "    adslab.set_constraint(cons)\n",
    "    adslab.center(vacuum=13.0, axis=2)\n",
    "    adslab.set_pbc(False)\n",
    "    # Set up the calculator\n",
    "    adslab.set_calculator(calc)\n",
    "    os.makedirs('data', exist_ok=True)\n",
    "    # Define structure optimizer - LBFGS. Run for 100 steps, \n",
    "    # or if the max force on all atoms (fmax) is below 0 ev/A.\n",
    "    # fmax is typically set to 0.01-0.05 eV/A, \n",
    "    # for this demo however we run for the full 100 steps.\n",
    "    dyn = LBFGS(adslab, trajectory=\"data/\" + metal + \"_co_relax.traj\")\n",
    "    dyn.run(fmax=0.05, steps=100)\n",
    "    traj = ase.io.read(\"data/\" + metal + \"_co_relax.traj\", \":\")\n",
    "    # convert traj format to extxyz format (used by OC20 dataset)\n",
    "    columns = (['symbols','positions', 'move_mask', 'tags'])\n",
    "    with open(\"data/\" + metal + \"_co_relax.extxyz\",'w') as f:\n",
    "        extxyz.write_xyz(f, traj, columns=columns)\n",
    "\n",
    "    #最適化後の吸着構造をロードし、エネルギーを出力\n",
    "    final_structure = traj[-1]\n",
    "    relaxed_energy = final_structure.get_potential_energy()\n",
    "    \n",
    "    return relaxed_energy"
   ]
  },
  {
   "cell_type": "markdown",
   "id": "89c903d5",
   "metadata": {},
   "source": [
    "作成した関数を用いて、Cu上のCO吸着構造を最適化してみます。"
   ]
  },
  {
   "cell_type": "code",
   "execution_count": 34,
   "id": "10ad396d",
   "metadata": {
    "scrolled": true
   },
   "outputs": [
    {
     "name": "stdout",
     "output_type": "stream",
     "text": [
      "3.6269448979591834\n",
      "       Step     Time          Energy         fmax\n",
      "LBFGS:    0 15:21:51        0.119126        1.5146\n",
      "LBFGS:    1 15:21:51        0.039461        2.2268\n",
      "LBFGS:    2 15:21:51       -0.065428        1.2539\n",
      "LBFGS:    3 15:21:51       -0.330648        1.3239\n",
      "LBFGS:    4 15:21:51       -0.390798        0.5037\n",
      "LBFGS:    5 15:21:51       -0.461710        0.4463\n",
      "LBFGS:    6 15:21:51       -0.506664        0.9608\n",
      "LBFGS:    7 15:21:51       -0.543631        1.0114\n",
      "LBFGS:    8 15:21:52       -0.547412        0.5836\n",
      "LBFGS:    9 15:21:52       -0.525919        0.3501\n",
      "LBFGS:   10 15:21:52       -0.526044        0.6787\n",
      "LBFGS:   11 15:21:52       -0.550006        0.8175\n",
      "LBFGS:   12 15:21:52       -0.597113        0.5774\n",
      "LBFGS:   13 15:21:52       -0.651618        0.2536\n",
      "LBFGS:   14 15:21:52       -0.685208        0.2262\n",
      "LBFGS:   15 15:21:52       -0.692503        0.2594\n",
      "LBFGS:   16 15:21:52       -0.689666        0.2147\n",
      "LBFGS:   17 15:21:52       -0.680430        0.0995\n",
      "LBFGS:   18 15:21:52       -0.675084        0.0562\n",
      "LBFGS:   19 15:21:52       -0.674154        0.1728\n",
      "LBFGS:   20 15:21:52       -0.683221        0.2036\n",
      "LBFGS:   21 15:21:52       -0.706678        0.1168\n",
      "LBFGS:   22 15:21:52       -0.714384        0.0416\n"
     ]
    }
   ],
   "source": [
    "relaxed_energy = Calculate_adsorption_energy_fcc111(\"Cu\", \"CO\", 0.05, 100)"
   ]
  },
  {
   "cell_type": "markdown",
   "id": "67ca48ac",
   "metadata": {},
   "source": [
    "吸着構造の最適化が完了したら、吸着エネルギーに換算します。吸着エネルギーは、吸着構造のエネルギー - （表面のエネルギー + 吸着分子単独のエネルギー）で求められます。ここで、吸着分子単独のエネルギーについては簡単のため、各原子の参照エネルギーを仮定しその総和で表すことにします。\n",
    "\n",
    "注意：このような単純化がいかなる時に許容されるかという点はよく考えておく必要があります。例えば、算出された吸着エネルギー（もしくはそれらの特徴量エンジニアリングにより得られる値）を相対的な特徴量として、なにがしか別の物性について議論するという場合を考えてみましょう。このようなケースにおいて、先に仮定した分子の参照エネルギーは単なる「ゲタ」であり、相対比較においては無視することができます。一方で、吸着エネルギーの絶対値に依拠して別の物性（例えば平衡）を算出する場合には、より厳密な計算が求められます。"
   ]
  },
  {
   "cell_type": "code",
   "execution_count": 35,
   "id": "d58bf45d",
   "metadata": {},
   "outputs": [],
   "source": [
    "def calculate_adsorption_energy(mol, raw_slab_energy, relaxed_energy):\n",
    "    adsorbate = Atoms(mol).get_chemical_symbols()\n",
    "    # For clarity, we define arbitrary gas reference energies here.\n",
    "    # A more detailed discussion of these calculations can be found in the corresponding paper's SI. \n",
    "    gas_reference_energies = {'H': .3, 'O': .45, 'C': .35, 'N': .50}\n",
    "    adsorbate_reference_energy = 0\n",
    "    for ads in adsorbate:\n",
    "        adsorbate_reference_energy += gas_reference_energies[ads]\n",
    "#    print(f'Adsorbate reference energy = {adsorbate_reference_energy} eV\\n')\n",
    "    adsorption_energy = relaxed_energy - raw_slab_energy - adsorbate_reference_energy\n",
    "#    print(f'Adsorption energy: {adsorption_energy} eV')\n",
    "    \n",
    "    return adsorption_energy\n"
   ]
  },
  {
   "cell_type": "markdown",
   "id": "c5b2c4ab",
   "metadata": {},
   "source": [
    "計算値を出力します。参考までに、実験値は-0.5 eVでした。"
   ]
  },
  {
   "cell_type": "code",
   "execution_count": 36,
   "id": "7378b052",
   "metadata": {},
   "outputs": [
    {
     "data": {
      "text/plain": [
       "-0.6049557209014893"
      ]
     },
     "execution_count": 36,
     "metadata": {},
     "output_type": "execute_result"
    }
   ],
   "source": [
    "calculate_adsorption_energy(\"CO\", raw_slab_energy, relaxed_energy)"
   ]
  },
  {
   "attachments": {
    "image.png": {
     "image/png": "[encoded data removed]"
    }
   },
   "cell_type": "markdown",
   "id": "2e162ed6",
   "metadata": {},
   "source": [
    "## （参考）CO吸着エネルギーの文献値比較\n",
    "\n",
    "https://link.aps.org/accepted/10.1103/PhysRevB.100.035442  \n",
    "こちらをもとに、種々の汎関数によるDFT計算結果とOCP力場による計算結果を比較してみます。  \n",
    "※GPU環境がないとこの計算は少し重いので、こちらについては余裕のある方だけお試しください。\n",
    "\n",
    "![image.png](attachment:image.png)"
   ]
  },
  {
   "cell_type": "code",
   "execution_count": 39,
   "id": "7f8de11d",
   "metadata": {
    "scrolled": true
   },
   "outputs": [
    {
     "name": "stdout",
     "output_type": "stream",
     "text": [
      "3.878091836734694\n",
      "       Step     Time          Energy         fmax\n",
      "LBFGS:    0 15:25:34       -1.054435        1.0455\n",
      "LBFGS:    1 15:25:34       -1.046233        0.9656\n",
      "LBFGS:    2 15:25:34       -0.822875        0.7974\n",
      "LBFGS:    3 15:25:34       -0.936503        0.5501\n",
      "LBFGS:    4 15:25:34       -0.898508        0.3742\n",
      "LBFGS:    5 15:25:34       -0.754269        0.2211\n",
      "LBFGS:    6 15:25:34       -0.712843        0.2261\n",
      "LBFGS:    7 15:25:34       -0.725551        0.2383\n",
      "LBFGS:    8 15:25:34       -0.745426        0.2110\n",
      "LBFGS:    9 15:25:35       -0.786130        0.1407\n",
      "LBFGS:   10 15:25:35       -0.826246        0.1401\n",
      "LBFGS:   11 15:25:35       -0.891329        0.1161\n",
      "LBFGS:   12 15:25:35       -0.950428        0.1009\n",
      "LBFGS:   13 15:25:35       -0.963914        0.1104\n",
      "LBFGS:   14 15:25:35       -0.955543        0.1037\n",
      "LBFGS:   15 15:25:35       -0.923335        0.1151\n",
      "LBFGS:   16 15:25:35       -0.880606        0.1162\n",
      "LBFGS:   17 15:25:35       -0.864716        0.1640\n",
      "LBFGS:   18 15:25:35       -0.870292        0.1577\n",
      "LBFGS:   19 15:25:35       -0.896207        0.1042\n",
      "LBFGS:   20 15:25:35       -0.928041        0.0610\n",
      "LBFGS:   21 15:25:35       -0.945265        0.0637\n",
      "LBFGS:   22 15:25:35       -0.946474        0.0609\n",
      "LBFGS:   23 15:25:35       -0.942189        0.0597\n",
      "LBFGS:   24 15:25:35       -0.932509        0.0520\n",
      "LBFGS:   25 15:25:35       -0.925007        0.0424\n",
      "3.878091836734694\n",
      "       Step     Time          Energy         fmax\n",
      "LBFGS:    0 15:25:37        0.258532        1.5431\n",
      "LBFGS:    1 15:25:37        0.319408        2.6685\n",
      "LBFGS:    2 15:25:38        0.222535        1.3315\n",
      "LBFGS:    3 15:25:38       -0.096919        1.7898\n",
      "LBFGS:    4 15:25:38       -0.302939        1.0151\n",
      "LBFGS:    5 15:25:38       -0.752452        0.6092\n",
      "LBFGS:    6 15:25:38       -0.738658        1.0004\n",
      "LBFGS:    7 15:25:38       -0.724085        1.0214\n",
      "LBFGS:    8 15:25:38       -0.728608        0.5784\n",
      "LBFGS:    9 15:25:38       -0.771628        0.2893\n",
      "LBFGS:   10 15:25:38       -0.774025        0.3438\n",
      "LBFGS:   11 15:25:38       -0.807292        0.5030\n",
      "LBFGS:   12 15:25:38       -0.876345        0.4544\n",
      "LBFGS:   13 15:25:38       -0.974132        0.2934\n",
      "LBFGS:   14 15:25:38       -1.073672        0.2502\n",
      "LBFGS:   15 15:25:38       -1.116235        0.1702\n",
      "LBFGS:   16 15:25:38       -1.145616        0.0791\n",
      "LBFGS:   17 15:25:38       -1.159040        0.0509\n",
      "LBFGS:   18 15:25:38       -1.158374        0.0542\n",
      "LBFGS:   19 15:25:38       -1.146195        0.0740\n",
      "LBFGS:   20 15:25:38       -1.110100        0.0789\n",
      "LBFGS:   21 15:25:38       -1.028854        0.1117\n",
      "LBFGS:   22 15:25:38       -1.032431        0.0847\n",
      "LBFGS:   23 15:25:39       -1.039944        0.0761\n",
      "LBFGS:   24 15:25:39       -1.049409        0.0553\n",
      "LBFGS:   25 15:25:39       -1.061481        0.0343\n",
      "Adsorption energy: -0.9364737749099732 eV\n",
      "3.799224489795918\n",
      "       Step     Time          Energy         fmax\n",
      "LBFGS:    0 15:25:41        0.615676        2.0381\n",
      "LBFGS:    1 15:25:41        0.431833        1.8587\n",
      "LBFGS:    2 15:25:41       -0.992264        0.9512\n",
      "LBFGS:    3 15:25:41       -0.922396        0.7816\n",
      "LBFGS:    4 15:25:41       -0.951543        0.3766\n",
      "LBFGS:    5 15:25:41       -1.025984        0.4450\n",
      "LBFGS:    6 15:25:41       -1.151936        0.3883\n",
      "LBFGS:    7 15:25:41       -1.217042        0.1933\n",
      "LBFGS:    8 15:25:41       -1.251692        0.1004\n",
      "LBFGS:    9 15:25:41       -1.265104        0.0873\n",
      "LBFGS:   10 15:25:41       -1.279968        0.0659\n",
      "LBFGS:   11 15:25:41       -1.314166        0.1091\n",
      "LBFGS:   12 15:25:41       -1.365190        0.1439\n",
      "LBFGS:   13 15:25:41       -1.416276        0.1187\n",
      "LBFGS:   14 15:25:41       -1.378201        0.0638\n",
      "LBFGS:   15 15:25:41       -1.332608        0.0381\n",
      "3.799224489795918\n",
      "       Step     Time          Energy         fmax\n",
      "LBFGS:    0 15:25:44        0.276588        2.0796\n",
      "LBFGS:    1 15:25:44        0.030389        3.4776\n",
      "LBFGS:    2 15:25:44       -0.529481        3.2046\n",
      "LBFGS:    3 15:25:44       -0.318609        1.4139\n",
      "LBFGS:    4 15:25:44       -0.771985        0.8077\n",
      "LBFGS:    5 15:25:44       -0.978499        0.6505\n",
      "LBFGS:    6 15:25:44       -1.524768        0.8042\n",
      "LBFGS:    7 15:25:44       -1.811273        0.7588\n",
      "LBFGS:    8 15:25:44       -2.050433        0.4267\n",
      "LBFGS:    9 15:25:44       -2.132504        0.3146\n",
      "LBFGS:   10 15:25:44       -2.191255        0.3825\n",
      "LBFGS:   11 15:25:44       -2.254256        0.3318\n",
      "LBFGS:   12 15:25:44       -2.268028        0.1489\n",
      "LBFGS:   13 15:25:44       -2.262848        0.0918\n",
      "LBFGS:   14 15:25:44       -2.264986        0.0632\n",
      "LBFGS:   15 15:25:44       -2.272030        0.0812\n",
      "LBFGS:   16 15:25:44       -2.281793        0.0888\n",
      "LBFGS:   17 15:25:44       -2.296759        0.0769\n",
      "LBFGS:   18 15:25:44       -2.322041        0.0488\n",
      "Adsorption energy: -1.7894325733184815 eV\n",
      "3.9431999999999996\n",
      "       Step     Time          Energy         fmax\n",
      "LBFGS:    0 15:25:47        0.775672        2.3706\n",
      "LBFGS:    1 15:25:47        0.908374        2.1845\n",
      "LBFGS:    2 15:25:47       -0.034162        1.1248\n",
      "LBFGS:    3 15:25:47       -0.228763        1.4036\n",
      "LBFGS:    4 15:25:47       -0.366624        1.0649\n",
      "LBFGS:    5 15:25:47       -0.116351        0.7191\n",
      "LBFGS:    6 15:25:47       -0.154072        0.6368\n",
      "LBFGS:    7 15:25:47       -0.381240        0.4064\n",
      "LBFGS:    8 15:25:47       -0.543675        0.2873\n",
      "LBFGS:    9 15:25:47       -0.576170        0.2505\n",
      "LBFGS:   10 15:25:47       -0.505854        0.2196\n",
      "LBFGS:   11 15:25:47       -0.443159        0.2337\n",
      "LBFGS:   12 15:25:47       -0.440651        0.2242\n",
      "LBFGS:   13 15:25:47       -0.474919        0.3393\n",
      "LBFGS:   14 15:25:47       -0.516756        0.3284\n",
      "LBFGS:   15 15:25:47       -0.543084        0.1884\n",
      "LBFGS:   16 15:25:47       -0.610373        0.1571\n",
      "LBFGS:   17 15:25:47       -0.667686        0.1204\n",
      "LBFGS:   18 15:25:47       -0.587138        0.2741\n",
      "LBFGS:   19 15:25:47       -0.534396        0.2870\n",
      "LBFGS:   20 15:25:48       -0.340943        0.2649\n",
      "LBFGS:   21 15:25:48       -0.345440        0.2059\n",
      "LBFGS:   22 15:25:48       -0.375119        0.1776\n",
      "LBFGS:   23 15:25:48       -0.361035        0.1898\n",
      "LBFGS:   24 15:25:48       -0.331373        0.1761\n",
      "LBFGS:   25 15:25:48       -0.353188        0.1376\n",
      "LBFGS:   26 15:25:48       -0.398533        0.1494\n",
      "LBFGS:   27 15:25:48       -0.405589        0.1179\n",
      "LBFGS:   28 15:25:48       -0.404983        0.1539\n",
      "LBFGS:   29 15:25:48       -0.448418        0.1329\n",
      "LBFGS:   30 15:25:48       -0.541580        0.0654\n",
      "LBFGS:   31 15:25:48       -0.583700        0.0686\n",
      "LBFGS:   32 15:25:48       -0.624813        0.1013\n",
      "LBFGS:   33 15:25:48       -0.639384        0.1560\n",
      "LBFGS:   34 15:25:48       -0.632975        0.1975\n",
      "LBFGS:   35 15:25:48       -0.625808        0.2042\n",
      "LBFGS:   36 15:25:48       -0.627495        0.1865\n",
      "LBFGS:   37 15:25:48       -0.416118        0.3408\n",
      "LBFGS:   38 15:25:48       -0.267593        0.4280\n",
      "LBFGS:   39 15:25:48       -0.106187        0.5924\n",
      "LBFGS:   40 15:25:48       -0.160468        0.6725\n",
      "LBFGS:   41 15:25:48       -0.272480        0.5907\n",
      "LBFGS:   42 15:25:49       -0.225406        0.6535\n",
      "LBFGS:   43 15:25:49        0.199324        0.6547\n",
      "LBFGS:   44 15:25:49        0.019033        0.5474\n",
      "LBFGS:   45 15:25:49        0.151731        0.6040\n",
      "LBFGS:   46 15:25:49        0.019943        0.4965\n",
      "LBFGS:   47 15:25:49       -0.065670        0.3969\n",
      "LBFGS:   48 15:25:49       -0.205239        0.4352\n",
      "LBFGS:   49 15:25:49       -0.491745        0.3467\n",
      "LBFGS:   50 15:25:49       -0.579722        0.3032\n",
      "LBFGS:   51 15:25:49       -0.702000        0.2617\n",
      "LBFGS:   52 15:25:49       -0.760125        0.1961\n",
      "LBFGS:   53 15:25:49       -0.798618        0.1243\n",
      "LBFGS:   54 15:25:49       -0.855753        0.0944\n",
      "LBFGS:   55 15:25:49       -0.930385        0.0881\n",
      "LBFGS:   56 15:25:49       -0.764136        0.4638\n",
      "LBFGS:   57 15:25:49       -0.979979        0.1553\n",
      "LBFGS:   58 15:25:49       -0.992134        0.1354\n",
      "LBFGS:   59 15:25:49       -1.016406        0.0921\n",
      "LBFGS:   60 15:25:49       -1.037488        0.0792\n",
      "LBFGS:   61 15:25:49       -1.050495        0.0460\n",
      "3.9431999999999996\n",
      "       Step     Time          Energy         fmax\n",
      "LBFGS:    0 15:25:52        2.295776        2.3665\n",
      "LBFGS:    1 15:25:52        2.107594        2.3385\n"
     ]
    },
    {
     "name": "stdout",
     "output_type": "stream",
     "text": [
      "LBFGS:    2 15:25:52        0.889062        3.0241\n",
      "LBFGS:    3 15:25:52        0.185268        1.4322\n",
      "LBFGS:    4 15:25:52        0.153833        2.2504\n",
      "LBFGS:    5 15:25:52        0.230297        2.2934\n",
      "LBFGS:    6 15:25:52        0.379455        0.9804\n",
      "LBFGS:    7 15:25:52        0.253416        0.8153\n",
      "LBFGS:    8 15:25:52        0.227452        1.4736\n",
      "LBFGS:    9 15:25:52       -0.101094        1.7090\n",
      "LBFGS:   10 15:25:52       -0.507356        1.0563\n",
      "LBFGS:   11 15:25:52       -0.975302        0.2368\n",
      "LBFGS:   12 15:25:52       -0.904387        0.2875\n",
      "LBFGS:   13 15:25:52       -0.814025        0.4966\n",
      "LBFGS:   14 15:25:52       -0.826795        0.5419\n",
      "LBFGS:   15 15:25:52       -0.903817        0.3214\n",
      "LBFGS:   16 15:25:52       -0.903465        0.2366\n",
      "LBFGS:   17 15:25:52       -0.889365        0.2681\n",
      "LBFGS:   18 15:25:52       -0.998706        0.3639\n",
      "LBFGS:   19 15:25:52       -1.085141        0.2115\n",
      "LBFGS:   20 15:25:52       -1.051948        0.1180\n",
      "LBFGS:   21 15:25:53       -1.041989        0.1799\n",
      "LBFGS:   22 15:25:53       -1.105771        0.2424\n",
      "LBFGS:   23 15:25:53       -1.195288        0.1526\n",
      "LBFGS:   24 15:25:53       -1.220119        0.0515\n",
      "LBFGS:   25 15:25:53       -1.214023        0.0641\n",
      "LBFGS:   26 15:25:53       -1.137837        0.1418\n",
      "LBFGS:   27 15:25:53       -0.766441        0.2931\n",
      "LBFGS:   28 15:25:53       -1.077524        0.1605\n",
      "LBFGS:   29 15:25:53       -1.096571        0.1198\n",
      "LBFGS:   30 15:25:53       -1.112792        0.0675\n",
      "LBFGS:   31 15:25:53       -1.130625        0.0613\n",
      "LBFGS:   32 15:25:53       -1.176226        0.0300\n",
      "Adsorption energy: -0.9257303953170777 eV\n",
      "3.6269448979591834\n",
      "       Step     Time          Energy         fmax\n",
      "LBFGS:    0 15:25:55       -0.732217        0.8514\n",
      "LBFGS:    1 15:25:55       -0.709653        0.8003\n",
      "LBFGS:    2 15:25:55       -0.767044        0.5479\n",
      "LBFGS:    3 15:25:55       -0.827161        0.3242\n",
      "LBFGS:    4 15:25:55       -0.835793        0.2935\n",
      "LBFGS:    5 15:25:55       -0.905706        0.0724\n",
      "LBFGS:    6 15:25:55       -0.911679        0.0848\n",
      "LBFGS:    7 15:25:56       -0.910769        0.1040\n",
      "LBFGS:    8 15:25:56       -0.908584        0.1013\n",
      "LBFGS:    9 15:25:56       -0.904911        0.0773\n",
      "LBFGS:   10 15:25:56       -0.904410        0.0656\n",
      "LBFGS:   11 15:25:56       -0.906509        0.0701\n",
      "LBFGS:   12 15:25:56       -0.908379        0.0554\n",
      "LBFGS:   13 15:25:56       -0.909450        0.0362\n",
      "3.6269448979591834\n",
      "       Step     Time          Energy         fmax\n",
      "LBFGS:    0 15:25:58        0.119126        1.5146\n",
      "LBFGS:    1 15:25:58        0.039462        2.2268\n",
      "LBFGS:    2 15:25:58       -0.065428        1.2539\n",
      "LBFGS:    3 15:25:58       -0.330644        1.3241\n",
      "LBFGS:    4 15:25:58       -0.390782        0.5035\n",
      "LBFGS:    5 15:25:58       -0.461713        0.4457\n",
      "LBFGS:    6 15:25:58       -0.506817        0.9612\n",
      "LBFGS:    7 15:25:58       -0.543694        1.0120\n",
      "LBFGS:    8 15:25:58       -0.547446        0.5837\n",
      "LBFGS:    9 15:25:58       -0.525945        0.3499\n",
      "LBFGS:   10 15:25:58       -0.526040        0.6785\n",
      "LBFGS:   11 15:25:59       -0.550015        0.8179\n",
      "LBFGS:   12 15:25:59       -0.597085        0.5777\n",
      "LBFGS:   13 15:25:59       -0.651624        0.2536\n",
      "LBFGS:   14 15:25:59       -0.685194        0.2263\n",
      "LBFGS:   15 15:25:59       -0.692490        0.2596\n",
      "LBFGS:   16 15:25:59       -0.689661        0.2147\n",
      "LBFGS:   17 15:25:59       -0.680430        0.0997\n",
      "LBFGS:   18 15:25:59       -0.675088        0.0564\n",
      "LBFGS:   19 15:25:59       -0.674189        0.1727\n",
      "LBFGS:   20 15:25:59       -0.683203        0.2037\n",
      "LBFGS:   21 15:25:59       -0.706642        0.1170\n",
      "LBFGS:   22 15:25:59       -0.714333        0.0417\n",
      "Adsorption energy: -0.6048824071884156 eV\n",
      "4.1208\n",
      "       Step     Time          Energy         fmax\n",
      "LBFGS:    0 15:26:01       -0.725238        0.9702\n",
      "LBFGS:    1 15:26:01       -0.723462        0.9216\n",
      "LBFGS:    2 15:26:01        0.213151        0.6253\n",
      "LBFGS:    3 15:26:01        0.133402        0.5516\n",
      "LBFGS:    4 15:26:01        0.111832        0.4145\n",
      "LBFGS:    5 15:26:02        0.007165        0.3215\n",
      "LBFGS:    6 15:26:02       -0.078355        0.2596\n",
      "LBFGS:    7 15:26:02       -0.274100        0.1997\n",
      "LBFGS:    8 15:26:02       -0.379618        0.1591\n",
      "LBFGS:    9 15:26:02       -0.371549        0.1978\n",
      "LBFGS:   10 15:26:02       -0.336630        0.2072\n",
      "LBFGS:   11 15:26:02       -0.307640        0.1784\n",
      "LBFGS:   12 15:26:02       -0.305959        0.2497\n",
      "LBFGS:   13 15:26:02       -0.320172        0.2678\n",
      "LBFGS:   14 15:26:02       -0.367050        0.2160\n",
      "LBFGS:   15 15:26:02       -0.399415        0.1693\n",
      "LBFGS:   16 15:26:02       -0.392856        0.1439\n",
      "LBFGS:   17 15:26:02       -0.341565        0.1393\n",
      "LBFGS:   18 15:26:02       -0.265515        0.1787\n",
      "LBFGS:   19 15:26:02       -0.240345        0.2475\n",
      "LBFGS:   20 15:26:02       -0.205824        0.2631\n",
      "LBFGS:   21 15:26:02       -0.192286        0.2198\n",
      "LBFGS:   22 15:26:02       -0.234348        0.1175\n",
      "LBFGS:   23 15:26:02       -0.290348        0.1255\n",
      "LBFGS:   24 15:26:02       -0.321636        0.1146\n",
      "LBFGS:   25 15:26:02       -0.342035        0.0956\n",
      "LBFGS:   26 15:26:03       -0.356065        0.0844\n",
      "LBFGS:   27 15:26:03       -0.368472        0.0842\n",
      "LBFGS:   28 15:26:03       -0.374370        0.0643\n",
      "LBFGS:   29 15:26:03       -0.374894        0.0416\n",
      "4.1208\n",
      "       Step     Time          Energy         fmax\n",
      "LBFGS:    0 15:26:05        1.403054        1.9627\n",
      "LBFGS:    1 15:26:05        1.276330        2.3636\n",
      "LBFGS:    2 15:26:05        1.266980        2.9551\n",
      "LBFGS:    3 15:26:05        1.213756        0.7837\n",
      "LBFGS:    4 15:26:05        1.202663        1.3710\n",
      "LBFGS:    5 15:26:05        1.179536        1.9111\n",
      "LBFGS:    6 15:26:05        1.072906        1.4575\n",
      "LBFGS:    7 15:26:05        1.004917        0.6258\n",
      "LBFGS:    8 15:26:05        0.907196        0.8028\n",
      "LBFGS:    9 15:26:05        0.871953        0.9114\n",
      "LBFGS:   10 15:26:05        0.810546        0.5638\n",
      "LBFGS:   11 15:26:05        0.806938        0.3023\n",
      "LBFGS:   12 15:26:05        0.805280        0.3041\n",
      "LBFGS:   13 15:26:05        0.775269        0.6191\n",
      "LBFGS:   14 15:26:05        0.699666        0.6576\n",
      "LBFGS:   15 15:26:05        0.609474        0.3340\n",
      "LBFGS:   16 15:26:05        0.568901        0.1089\n",
      "LBFGS:   17 15:26:06        0.555845        0.1245\n",
      "LBFGS:   18 15:26:06        0.542634        0.2145\n",
      "LBFGS:   19 15:26:06        0.524374        0.2679\n",
      "LBFGS:   20 15:26:06        0.524667        0.2126\n",
      "LBFGS:   21 15:26:06        0.545514        0.1648\n",
      "LBFGS:   22 15:26:06        0.553881        0.1611\n",
      "LBFGS:   23 15:26:06        0.550783        0.1788\n",
      "LBFGS:   24 15:26:06        0.538694        0.1915\n",
      "LBFGS:   25 15:26:06        0.530370        0.1126\n",
      "LBFGS:   26 15:26:06        0.520850        0.0787\n",
      "LBFGS:   27 15:26:06        0.505910        0.0999\n",
      "LBFGS:   28 15:26:06        0.494026        0.1421\n",
      "LBFGS:   29 15:26:06        0.491759        0.1445\n",
      "LBFGS:   30 15:26:06        0.518363        0.1377\n",
      "LBFGS:   31 15:26:06        0.571550        0.1208\n",
      "LBFGS:   32 15:26:06        0.624723        0.0906\n",
      "LBFGS:   33 15:26:06        0.647531        0.0906\n",
      "LBFGS:   34 15:26:06        0.642310        0.0804\n",
      "LBFGS:   35 15:26:06        0.627994        0.0663\n",
      "LBFGS:   36 15:26:06        0.608134        0.1087\n",
      "LBFGS:   37 15:26:06        0.594286        0.1597\n",
      "LBFGS:   38 15:26:07        0.593963        0.1420\n",
      "LBFGS:   39 15:26:07        0.608216        0.0861\n",
      "LBFGS:   40 15:26:07        0.633885        0.0807\n",
      "LBFGS:   41 15:26:07        0.653616        0.1000\n",
      "LBFGS:   42 15:26:07        0.686804        0.1542\n",
      "LBFGS:   43 15:26:07        0.711850        0.1324\n",
      "LBFGS:   44 15:26:07        0.723159        0.0724\n",
      "LBFGS:   45 15:26:07        0.717649        0.0900\n",
      "LBFGS:   46 15:26:07        0.711584        0.1573\n",
      "LBFGS:   47 15:26:07        0.715736        0.2227\n",
      "LBFGS:   48 15:26:07        0.730118        0.2179\n",
      "LBFGS:   49 15:26:07        0.747837        0.0950\n",
      "LBFGS:   50 15:26:07        0.771752        0.0815\n",
      "LBFGS:   51 15:26:07        0.779664        0.0735\n",
      "LBFGS:   52 15:26:07        0.809799        0.1012\n",
      "LBFGS:   53 15:26:07        0.871244        0.1543\n",
      "LBFGS:   54 15:26:07        1.085153        0.3421\n",
      "LBFGS:   55 15:26:07        1.100020        0.2017\n",
      "LBFGS:   56 15:26:07        1.034955        0.1443\n"
     ]
    },
    {
     "name": "stdout",
     "output_type": "stream",
     "text": [
      "LBFGS:   57 15:26:07        1.115571        0.7140\n",
      "LBFGS:   58 15:26:07        1.028464        0.1863\n",
      "LBFGS:   59 15:26:08        1.028770        0.3530\n",
      "LBFGS:   60 15:26:08        0.933106        0.4718\n",
      "LBFGS:   61 15:26:08        0.879363        0.4928\n",
      "LBFGS:   62 15:26:08        0.859763        0.3799\n",
      "LBFGS:   63 15:26:08        0.861241        0.1777\n",
      "LBFGS:   64 15:26:08        0.854204        0.2222\n",
      "LBFGS:   65 15:26:08        0.827176        0.3932\n",
      "LBFGS:   66 15:26:08        0.778920        0.3642\n",
      "LBFGS:   67 15:26:08        0.727724        0.3036\n",
      "LBFGS:   68 15:26:08        0.715209        0.2404\n",
      "LBFGS:   69 15:26:08        0.698667        0.2615\n",
      "LBFGS:   70 15:26:08        0.741963        0.7085\n",
      "LBFGS:   71 15:26:08        0.717988        0.2254\n",
      "LBFGS:   72 15:26:08        0.716821        0.3021\n",
      "LBFGS:   73 15:26:08        0.682650        0.2303\n",
      "LBFGS:   74 15:26:08        0.705456        0.3473\n",
      "LBFGS:   75 15:26:08        0.678519        0.7524\n",
      "LBFGS:   76 15:26:08        0.639078        0.7566\n",
      "LBFGS:   77 15:26:08        0.612772        1.0189\n",
      "LBFGS:   78 15:26:08        0.649910        1.9404\n",
      "LBFGS:   79 15:26:09        0.627931        1.1457\n",
      "LBFGS:   80 15:26:09        0.475652        0.1549\n",
      "LBFGS:   81 15:26:09        0.508028        0.1603\n",
      "LBFGS:   82 15:26:09        0.537234        0.3571\n",
      "LBFGS:   83 15:26:09        0.536070        0.8220\n",
      "LBFGS:   84 15:26:09        0.484930        0.3934\n",
      "LBFGS:   85 15:26:09        0.333219        0.1302\n",
      "LBFGS:   86 15:26:09        0.313653        0.1686\n",
      "LBFGS:   87 15:26:09        0.295953        0.2127\n",
      "LBFGS:   88 15:26:09        0.281870        0.3481\n",
      "LBFGS:   89 15:26:09        0.338441        1.2628\n",
      "LBFGS:   90 15:26:09        0.312568        1.0886\n",
      "LBFGS:   91 15:26:09        0.275316        0.3704\n",
      "LBFGS:   92 15:26:09        0.257691        0.1511\n",
      "LBFGS:   93 15:26:09        0.286182        0.3888\n",
      "LBFGS:   94 15:26:09        0.285882        0.6524\n",
      "LBFGS:   95 15:26:09        0.275513        0.3456\n",
      "LBFGS:   96 15:26:09        0.271496        0.2370\n",
      "LBFGS:   97 15:26:09        0.259081        0.1704\n",
      "LBFGS:   98 15:26:09        0.234123        0.1767\n",
      "LBFGS:   99 15:26:10        0.186481        0.1700\n",
      "LBFGS:  100 15:26:10        0.103978        0.1985\n",
      "Adsorption energy: -0.32112761139869694 eV\n",
      "4.1309\n",
      "       Step     Time          Energy         fmax\n",
      "LBFGS:    0 15:26:12       -0.812167        0.5068\n",
      "LBFGS:    1 15:26:12       -0.822683        0.4813\n",
      "LBFGS:    2 15:26:12       -1.029824        0.2892\n",
      "LBFGS:    3 15:26:12       -1.006227        0.2206\n",
      "LBFGS:    4 15:26:12       -0.994985        0.1690\n",
      "LBFGS:    5 15:26:12       -0.986703        0.0837\n",
      "LBFGS:    6 15:26:12       -0.989430        0.0727\n",
      "LBFGS:    7 15:26:12       -1.001823        0.0477\n",
      "4.1309\n",
      "       Step     Time          Energy         fmax\n",
      "LBFGS:    0 15:26:14        0.260855        3.0922\n",
      "LBFGS:    1 15:26:14        0.026319        3.1614\n",
      "LBFGS:    2 15:26:14       -0.078640        3.9850\n",
      "LBFGS:    3 15:26:15       -0.139289        1.2091\n",
      "LBFGS:    4 15:26:15       -0.196186        0.7551\n",
      "LBFGS:    5 15:26:15       -0.272715        1.2512\n",
      "LBFGS:    6 15:26:15       -0.433128        1.3573\n",
      "LBFGS:    7 15:26:15       -0.523880        0.8207\n",
      "LBFGS:    8 15:26:15       -0.511178        0.5423\n",
      "LBFGS:    9 15:26:15       -0.501184        0.4078\n",
      "LBFGS:   10 15:26:15       -0.502734        0.6589\n",
      "LBFGS:   11 15:26:15       -0.511876        0.5200\n",
      "LBFGS:   12 15:26:15       -0.519327        0.3611\n",
      "LBFGS:   13 15:26:15       -0.528220        0.6841\n",
      "LBFGS:   14 15:26:15       -0.524895        0.5085\n",
      "LBFGS:   15 15:26:15       -0.546559        0.1752\n",
      "LBFGS:   16 15:26:15       -0.590672        0.1575\n",
      "LBFGS:   17 15:26:15       -0.631982        0.2303\n",
      "LBFGS:   18 15:26:15       -0.643112        0.1117\n",
      "LBFGS:   19 15:26:15       -0.649822        0.0507\n",
      "LBFGS:   20 15:26:15       -0.656938        0.1470\n",
      "LBFGS:   21 15:26:15       -0.675584        0.2697\n",
      "LBFGS:   22 15:26:15       -0.694404        0.2482\n",
      "LBFGS:   23 15:26:15       -0.706793        0.0921\n",
      "LBFGS:   24 15:26:16       -0.703030        0.0481\n",
      "Adsorption energy: -0.5012064456939698 eV\n"
     ]
    }
   ],
   "source": [
    "metals = [\"Pd\", \"Rh\", \"Pt\", \"Cu\", \"Au\", \"Ag\"]\n",
    "ads_energy = []\n",
    "for metal in metals:\n",
    "\n",
    "    raw_slab_energy = Calculate_slab_energy_fcc111(metal, 0.05, 100)\n",
    "    relaxed_energy = Calculate_adsorption_energy_fcc111(metal, \"CO\", 0.05, 100)\n",
    "    \n",
    "    adsorption_energy = calculate_adsorption_energy(\"CO\", raw_slab_energy, relaxed_energy)\n",
    "    print(f'Adsorption energy: {adsorption_energy} eV')\n",
    "    ads_energy.append(adsorption_energy)"
   ]
  },
  {
   "cell_type": "code",
   "execution_count": 40,
   "id": "b1982196",
   "metadata": {},
   "outputs": [
    {
     "data": {
      "text/plain": [
       "[-0.9364737749099732,\n",
       " -1.7894325733184815,\n",
       " -0.9257303953170777,\n",
       " -0.6048824071884156,\n",
       " -0.32112761139869694,\n",
       " -0.5012064456939698]"
      ]
     },
     "execution_count": 40,
     "metadata": {},
     "output_type": "execute_result"
    }
   ],
   "source": [
    "ads_energy"
   ]
  },
  {
   "cell_type": "markdown",
   "id": "7e8f264d",
   "metadata": {},
   "source": [
    "## 各種計算手法および実測値との比較\n",
    "下記文献からFCC(111) ontopへのCO吸着エネルギーに関する計算値および実測値を引用しました。\n",
    "https://arxiv.org/pdf/cond-mat/0408394.pdf"
   ]
  },
  {
   "cell_type": "code",
   "execution_count": 41,
   "id": "852b7af3",
   "metadata": {},
   "outputs": [],
   "source": [
    "import pandas as pd\n",
    "df_calc = pd.DataFrame(\n",
    "    data={'LDA': [-2.12,-2.49,-2.22,-1.34,-0.93,-0.7], \n",
    "          'PBEsol': [-1.72,-2.18,-1.94,-1.05,-0.56,-0.45],\n",
    "          'PBE': [-1.38,-1.87,-1.61,-0.72,-0.25,-0.17],\n",
    "         \"SCAN\": [-1.64,-2.07,-1.92,-0.88,-0.42,-0.21],\n",
    "         \"Expt\": [-1.48,-1.45,-1.37,-0.5,-0.4,-0.28]}\n",
    ")"
   ]
  },
  {
   "cell_type": "code",
   "execution_count": 42,
   "id": "7a1a9568",
   "metadata": {},
   "outputs": [
    {
     "data": {
      "image/png": "[encoded data removed]",
      "text/plain": [
       "<Figure size 640x480 with 1 Axes>"
      ]
     },
     "metadata": {},
     "output_type": "display_data"
    },
    {
     "name": "stdout",
     "output_type": "stream",
     "text": [
      "-0.2204284234114844\n"
     ]
    },
    {
     "data": {
      "image/png": "[encoded data removed]",
      "text/plain": [
       "<Figure size 640x480 with 1 Axes>"
      ]
     },
     "metadata": {},
     "output_type": "display_data"
    },
    {
     "name": "stdout",
     "output_type": "stream",
     "text": [
      "0.5272231855338123\n"
     ]
    },
    {
     "data": {
      "image/png": "[encoded data removed]",
      "text/plain": [
       "<Figure size 640x480 with 1 Axes>"
      ]
     },
     "metadata": {},
     "output_type": "display_data"
    },
    {
     "name": "stdout",
     "output_type": "stream",
     "text": [
      "0.8743853718500307\n"
     ]
    },
    {
     "data": {
      "image/png": "[encoded data removed]",
      "text/plain": [
       "<Figure size 640x480 with 1 Axes>"
      ]
     },
     "metadata": {},
     "output_type": "display_data"
    },
    {
     "name": "stdout",
     "output_type": "stream",
     "text": [
      "0.7270828057736136\n"
     ]
    },
    {
     "data": {
      "image/png": "[encoded data removed]",
      "text/plain": [
       "<Figure size 640x480 with 1 Axes>"
      ]
     },
     "metadata": {},
     "output_type": "display_data"
    },
    {
     "name": "stdout",
     "output_type": "stream",
     "text": [
      "1.0\n"
     ]
    }
   ],
   "source": [
    "import matplotlib.pyplot as plt\n",
    "from sklearn.metrics import r2_score\n",
    "\n",
    "r2_DFT = []\n",
    "for method in df_calc:\n",
    "    fig, ax = plt.subplots(facecolor=\"w\")\n",
    "    ax.scatter(df_calc[method], df_calc[\"Expt\"])\n",
    "    plt.show()    \n",
    "    print(r2_score(df_calc[method], df_calc[\"Expt\"]))\n",
    "    r2_DFT.append(r2_score(df_calc[method], df_calc[\"Expt\"]))"
   ]
  },
  {
   "cell_type": "code",
   "execution_count": 43,
   "id": "87098cfb",
   "metadata": {},
   "outputs": [
    {
     "data": {
      "image/png": "[encoded data removed]",
      "text/plain": [
       "<Figure size 640x480 with 1 Axes>"
      ]
     },
     "metadata": {},
     "output_type": "display_data"
    },
    {
     "name": "stdout",
     "output_type": "stream",
     "text": [
      "0.5032381374670885\n"
     ]
    }
   ],
   "source": [
    "fig, ax = plt.subplots(facecolor=\"w\")\n",
    "ax.scatter(ads_energy, df_calc[\"Expt\"])\n",
    "plt.show()    \n",
    "print(r2_score(ads_energy, df_calc[\"Expt\"]))\n",
    "r2_DFT.append(r2_score(ads_energy, df_calc[\"Expt\"]))"
   ]
  },
  {
   "cell_type": "markdown",
   "id": "e73cdd40",
   "metadata": {},
   "source": [
    "実測値とのr2を測定比較します。OC20はそのほかの計算手法に比してそん色ない精度を持つことが示されました。\n",
    "（OC20のデータセットには当然この手の最も典型的な構造は網羅されているでしょうから、こういう結果が出ることは自明ではあります）"
   ]
  },
  {
   "cell_type": "code",
   "execution_count": 44,
   "id": "debfb23c",
   "metadata": {},
   "outputs": [
    {
     "data": {
      "text/plain": [
       "<BarContainer object of 6 artists>"
      ]
     },
     "execution_count": 44,
     "metadata": {},
     "output_type": "execute_result"
    },
    {
     "data": {
      "image/png": "[encoded data removed]",
      "text/plain": [
       "<Figure size 640x480 with 1 Axes>"
      ]
     },
     "metadata": {},
     "output_type": "display_data"
    }
   ],
   "source": [
    "plt.bar(df_calc.columns.to_list() + ['OC20'],r2_DFT)"
   ]
  },
  {
   "cell_type": "code",
   "execution_count": null,
   "id": "d2252380",
   "metadata": {},
   "outputs": [],
   "source": []
  }
 ],
 "metadata": {
  "kernelspec": {
   "display_name": "Python 3 (ipykernel)",
   "language": "python",
   "name": "python3"
  },
  "language_info": {
   "codemirror_mode": {
    "name": "ipython",
    "version": 3
   },
   "file_extension": ".py",
   "mimetype": "text/x-python",
   "name": "python",
   "nbconvert_exporter": "python",
   "pygments_lexer": "ipython3",
   "version": "3.9.15"
  }
 },
 "nbformat": 4,
 "nbformat_minor": 5
}
