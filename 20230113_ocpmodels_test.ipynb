{
 "cells": [
  {
   "cell_type": "code",
   "execution_count": null,
   "id": "d004f620",
   "metadata": {},
   "outputs": [],
   "source": [
    "# MIT License\n",
    "#\n",
    "#@title Copyright (c) 2021 CCAI Community Authors { display-mode: \"form\" }\n",
    "#\n",
    "# Permission is hereby granted, free of charge, to any person obtaining a\n",
    "# copy of this software and associated documentation files (the \"Software\"),\n",
    "# to deal in the Software without restriction, including without limitation\n",
    "# the rights to use, copy, modify, merge, publish, distribute, sublicense,\n",
    "# and/or sell copies of the Software, and to permit persons to whom the\n",
    "# Software is furnished to do so, subject to the following conditions:\n",
    "#\n",
    "# The above copyright notice and this permission notice shall be included in\n",
    "# all copies or substantial portions of the Software.\n",
    "#\n",
    "# THE SOFTWARE IS PROVIDED \"AS IS\", WITHOUT WARRANTY OF ANY KIND, EXPRESS OR\n",
    "# IMPLIED, INCLUDING BUT NOT LIMITED TO THE WARRANTIES OF MERCHANTABILITY,\n",
    "# FITNESS FOR A PARTICULAR PURPOSE AND NONINFRINGEMENT. IN NO EVENT SHALL\n",
    "# THE AUTHORS OR COPYRIGHT HOLDERS BE LIABLE FOR ANY CLAIM, DAMAGES OR OTHER\n",
    "# LIABILITY, WHETHER IN AN ACTION OF CONTRACT, TORT OR OTHERWISE, ARISING\n",
    "# FROM, OUT OF OR IN CONNECTION WITH THE SOFTWARE OR THE USE OR OTHER\n",
    "# DEALINGS IN THE SOFTWARE."
   ]
  },
  {
   "cell_type": "markdown",
   "id": "17d48338",
   "metadata": {},
   "source": [
    "## 学習済みモデル（力場）のダウンロード\n",
    "\n",
    "学習済みのモデルを右記リンクからダウンロードします。[here](https://github.com/Open-Catalyst-Project/ocp/blob/master/MODELS.md)学習済みのモデルはASEのCalculatorクラスとして使用できます。\n",
    "※今回はリンク先から該当ファイルを直接ダウンロードし、ocpフォルダに格納ください。"
   ]
  },
  {
   "cell_type": "code",
   "execution_count": null,
   "id": "5a57d8c0",
   "metadata": {},
   "outputs": [],
   "source": [
    "from ocpmodels.common.relaxation.ase_utils import OCPCalculator\n",
    "import ase.io\n",
    "from ase.optimize import LBFGS\n",
    "from ase.build import fcc100, fcc111, add_adsorbate, molecule\n",
    "import os\n",
    "from ase.constraints import FixAtoms\n",
    "import numpy as np\n",
    "from ase.io import extxyz\n",
    "\n",
    "import ase\n",
    "from ase import Atoms, units\n",
    "from ase.units import Bohr,Rydberg,kJ,kB,fs,Hartree,mol,kcal\n",
    "from ase.io import read, write\n",
    "from ase.build import surface, molecule, add_adsorbate\n",
    "from ase.constraints import FixAtoms, FixedPlane, FixBondLength, ExpCellFilter\n",
    "from ase.neb import NEB\n",
    "from ase.vibrations import Vibrations\n",
    "from ase.thermochemistry import IdealGasThermo\n",
    "from ase.visualize import view\n",
    "from ase.build.rotate import minimize_rotation_and_translation\n",
    "from ase.optimize import BFGS, LBFGS, FIRE\n",
    "from ase.md import MDLogger\n",
    "from ase.io import read, write, Trajectory\n",
    "from ase.build import sort\n",
    "\n",
    "\n",
    "#モデルの置き場所（ダウンロードしocpフォルダに格納、絶対パスで指定）\n",
    "checkpoint_path = \"C:/Users/****/ocp/gemnet_t_direct_h512_all.pt\"\n",
    "config_yml_path = r\"C:/Users/****/ocp/configs/s2ef/all/gemnet/gemnet-dT.yml\"\n",
    "\n",
    "#Define the calculator（CPUの場合、cpu = True）\n",
    "calc = OCPCalculator(config_yml=config_yml_path, checkpoint=checkpoint_path, cpu = False)"
   ]
  },
  {
   "cell_type": "markdown",
   "id": "e73249e3",
   "metadata": {},
   "source": [
    "計算環境が正常に構築されたことを確認するため、Cuのバルクエネルギーを計算します。エネルギー値が出力されればOKです。"
   ]
  },
  {
   "cell_type": "code",
   "execution_count": null,
   "id": "202d4b6d",
   "metadata": {},
   "outputs": [],
   "source": [
    "atoms = Atoms([Atom('Cu', (0, 0, 0))],\n",
    "                cell=0.5 * 3.7 * np.array([[1.0, 1.0, 0.0],\n",
    "                                        [0.0, 1.0, 1.0],\n",
    "                                        [1.0, 0.0, 1.0]]),\n",
    "                pbc=True)\n",
    "\n",
    "atoms.set_tags(np.ones(len(atoms)))\n",
    "\n",
    "atoms.calc = calc\n",
    "\n",
    "e = atoms.get_potential_energy()\n",
    "print(e)"
   ]
  }
 ],
 "metadata": {
  "kernelspec": {
   "display_name": "Python 3 (ipykernel)",
   "language": "python",
   "name": "python3"
  },
  "language_info": {
   "codemirror_mode": {
    "name": "ipython",
    "version": 3
   },
   "file_extension": ".py",
   "mimetype": "text/x-python",
   "name": "python",
   "nbconvert_exporter": "python",
   "pygments_lexer": "ipython3",
   "version": "3.9.15"
  }
 },
 "nbformat": 4,
 "nbformat_minor": 5
}
